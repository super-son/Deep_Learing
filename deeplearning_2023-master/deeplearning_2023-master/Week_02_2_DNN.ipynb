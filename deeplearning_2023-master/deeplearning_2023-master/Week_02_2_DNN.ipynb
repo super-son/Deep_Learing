{
 "cells": [
  {
   "cell_type": "markdown",
   "id": "0cfaeafb-3b2e-487d-8ed9-1bb6fe1850cd",
   "metadata": {
    "id": "NXpzWCH8kMn1"
   },
   "source": [
    "# Deep neural network 만들기"
   ]
  },
  {
   "cell_type": "markdown",
   "id": "1a124311-04f6-47b0-b279-d37bfc5a72d3",
   "metadata": {
    "id": "TMeYujC5kUv-",
    "tags": []
   },
   "source": [
    "## keras.Sequential\n",
    "실제 Keras를 사용할때 이전 챕터에서 배웠던 Dense Layer 단독으로 사용되지 않고, Sequential이라는 클래스와 함께 사용된다.  \n",
    "Keras의 Sequential 모델은 간단한 순차적인 신경망 구조를 구축하는 데 사용되는 클래스입니다.  \n",
    "이 모델은 레이어를 순차적으로 쌓아 나가는 방식으로 만들어지며, 입력 데이터가 한 방향으로만 흐르는 구조를 가집니다."
   ]
  },
  {
   "cell_type": "code",
   "execution_count": 5,
   "id": "fb17c41a-671d-47db-b57a-f4c1f4a21bec",
   "metadata": {
    "id": "uTT_fV7ikaeB"
   },
   "outputs": [
    {
     "name": "stdout",
     "output_type": "stream",
     "text": [
      "Model: \"sequential_1\"\n",
      "_________________________________________________________________\n",
      " Layer (type)                Output Shape              Param #   \n",
      "=================================================================\n",
      " dense_1 (Dense)             (None, 1)                 6         \n",
      "                                                                 \n",
      "=================================================================\n",
      "Total params: 6\n",
      "Trainable params: 6\n",
      "Non-trainable params: 0\n",
      "_________________________________________________________________\n"
     ]
    }
   ],
   "source": [
    "import tensorflow as tf\n",
    "from tensorflow.keras.models import Sequential\n",
    "from tensorflow.keras.layers import Dense\n",
    "\n",
    "# Sequential 모델 생성\n",
    "model = Sequential()\n",
    "\n",
    "# 입력 레이어와 은닉 레이어 추가\n",
    "model.add(Dense(1, activation='relu', input_dim=5)) # 입력-출력\n",
    "\n",
    "# 모델 요약 출력\n",
    "model.summary()"
   ]
  },
  {
   "cell_type": "code",
   "execution_count": 2,
   "id": "28c583b3-5fb4-4e7a-b6e9-933b898b671b",
   "metadata": {
    "colab": {
     "base_uri": "https://localhost:8080/"
    },
    "id": "ZuNy0RQ5kPBv",
    "outputId": "13208933-d2fa-44cc-cbd2-e92bf3f103d0"
   },
   "outputs": [
    {
     "data": {
      "text/plain": [
       "array([[0.37406582, 0.81802114, 0.23941548, 0.45026807, 0.28016624]])"
      ]
     },
     "execution_count": 2,
     "metadata": {},
     "output_type": "execute_result"
    }
   ],
   "source": [
    "import numpy as np\n",
    "X = np.random.rand(1,5)\n",
    "X"
   ]
  },
  {
   "cell_type": "code",
   "execution_count": 6,
   "id": "99ce97e1-6977-446c-a4db-38bc0617d5e6",
   "metadata": {
    "colab": {
     "base_uri": "https://localhost:8080/"
    },
    "id": "_3xs0UZWlPpv",
    "outputId": "a100702b-3614-4b50-82d9-b6e814d99209"
   },
   "outputs": [
    {
     "data": {
      "text/plain": [
       "<tf.Tensor: shape=(1, 1), dtype=float32, numpy=array([[0.689671]], dtype=float32)>"
      ]
     },
     "execution_count": 6,
     "metadata": {},
     "output_type": "execute_result"
    }
   ],
   "source": [
    "model(X)"
   ]
  },
  {
   "cell_type": "markdown",
   "id": "45eb58f7-c722-44be-84dd-5f01562d8d53",
   "metadata": {
    "id": "7WShyAgPmILQ"
   },
   "source": [
    "## keras.Sequential에 층 추가하기"
   ]
  },
  {
   "cell_type": "code",
   "execution_count": 8,
   "id": "218cb586-23f9-4637-8336-376a5ffd9c69",
   "metadata": {
    "colab": {
     "base_uri": "https://localhost:8080/"
    },
    "id": "xN4rPvfCmMCs",
    "outputId": "8f203e02-13fc-4856-a8cd-c137e3bd0300"
   },
   "outputs": [
    {
     "data": {
      "text/plain": [
       "array([[0.21576094, 0.94725864, 0.04155773, 0.83458016, 0.63665143]])"
      ]
     },
     "execution_count": 8,
     "metadata": {},
     "output_type": "execute_result"
    }
   ],
   "source": [
    "X = np.random.rand(1,5)\n",
    "X"
   ]
  },
  {
   "cell_type": "code",
   "execution_count": 7,
   "id": "015e8d63-b28f-415b-8097-0b0daa376bc6",
   "metadata": {
    "colab": {
     "base_uri": "https://localhost:8080/"
    },
    "id": "evka2uLcmPkw",
    "outputId": "9b0abedb-6c13-4730-d9eb-f8d5305f8555"
   },
   "outputs": [
    {
     "name": "stdout",
     "output_type": "stream",
     "text": [
      "Model: \"sequential_2\"\n",
      "_________________________________________________________________\n",
      " Layer (type)                Output Shape              Param #   \n",
      "=================================================================\n",
      " dense_2 (Dense)             (None, 3)                 18        \n",
      "                                                                 \n",
      " dense_3 (Dense)             (None, 1)                 4         \n",
      "                                                                 \n",
      "=================================================================\n",
      "Total params: 22\n",
      "Trainable params: 22\n",
      "Non-trainable params: 0\n",
      "_________________________________________________________________\n"
     ]
    }
   ],
   "source": [
    "# Sequential 모델 생성\n",
    "model = Sequential()\n",
    "\n",
    "# 레이어 추가\n",
    "model.add(Dense(3, activation='sigmoid', input_dim=5))  # 입력 레이어 5->3\n",
    "model.add(Dense(1, activation='sigmoid'))  # 은닉 레이어 3->1\n",
    "\n",
    "# 모델 요약 출력\n",
    "model.summary()"
   ]
  },
  {
   "cell_type": "code",
   "execution_count": 9,
   "id": "e4d4be89-640d-4dc7-879a-dcc5cf22101d",
   "metadata": {
    "colab": {
     "base_uri": "https://localhost:8080/"
    },
    "id": "tmYDN2CunVj9",
    "outputId": "07edb524-8a06-4775-9821-9573ca11c73d"
   },
   "outputs": [
    {
     "data": {
      "text/plain": [
       "<tf.Tensor: shape=(1, 1), dtype=float32, numpy=array([[0.52340627]], dtype=float32)>"
      ]
     },
     "execution_count": 9,
     "metadata": {},
     "output_type": "execute_result"
    }
   ],
   "source": [
    "model(X)"
   ]
  },
  {
   "cell_type": "markdown",
   "id": "03544803-03e0-4d92-9460-5499d40ffe64",
   "metadata": {
    "id": "M1EKGHhYnleE"
   },
   "source": [
    "## 딥 뉴럴 네트워크"
   ]
  },
  {
   "cell_type": "code",
   "execution_count": 10,
   "id": "91d66bfc-74f5-49c0-8b25-f25a7170146c",
   "metadata": {
    "colab": {
     "base_uri": "https://localhost:8080/"
    },
    "id": "yE7RMH98nnfg",
    "outputId": "9284cf4e-755f-4fa9-d81f-4f3b76a77d84"
   },
   "outputs": [
    {
     "name": "stdout",
     "output_type": "stream",
     "text": [
      "Model: \"sequential_3\"\n",
      "_________________________________________________________________\n",
      " Layer (type)                Output Shape              Param #   \n",
      "=================================================================\n",
      " dense_4 (Dense)             (None, 10)                60        \n",
      "                                                                 \n",
      " dense_5 (Dense)             (None, 5)                 55        \n",
      "                                                                 \n",
      " dense_6 (Dense)             (None, 3)                 18        \n",
      "                                                                 \n",
      " dense_7 (Dense)             (None, 5)                 20        \n",
      "                                                                 \n",
      "=================================================================\n",
      "Total params: 153\n",
      "Trainable params: 153\n",
      "Non-trainable params: 0\n",
      "_________________________________________________________________\n"
     ]
    }
   ],
   "source": [
    "# Sequential 모델 생성\n",
    "model = Sequential()\n",
    "\n",
    "# 레이어 추가\n",
    "model.add(Dense(10, activation='sigmoid', input_dim=5))  # 입력 레이어\n",
    "model.add(Dense(5, activation='sigmoid'))  # 은닉 레이어\n",
    "model.add(Dense(3, activation='sigmoid'))  # 은닉 레이어\n",
    "model.add(Dense(5, activation='sigmoid'))  # 은닉 레이어\n",
    "\n",
    "# 모델 요약 출력\n",
    "model.summary()"
   ]
  },
  {
   "cell_type": "code",
   "execution_count": 11,
   "id": "2a7709f2-0eaa-474c-8cc7-7840f2bceecd",
   "metadata": {
    "colab": {
     "base_uri": "https://localhost:8080/"
    },
    "id": "gT2aJeF5nzAn",
    "outputId": "4b179e4d-c547-4b04-e8c1-c0003c4a568f"
   },
   "outputs": [
    {
     "data": {
      "text/plain": [
       "<tf.Tensor: shape=(1, 5), dtype=float32, numpy=\n",
       "array([[0.5666869, 0.5192662, 0.4893526, 0.5496288, 0.5347053]],\n",
       "      dtype=float32)>"
      ]
     },
     "execution_count": 11,
     "metadata": {},
     "output_type": "execute_result"
    }
   ],
   "source": [
    "model(X)"
   ]
  }
 ],
 "metadata": {
  "kernelspec": {
   "display_name": "Python 3 (ipykernel)",
   "language": "python",
   "name": "python3"
  },
  "language_info": {
   "codemirror_mode": {
    "name": "ipython",
    "version": 3
   },
   "file_extension": ".py",
   "mimetype": "text/x-python",
   "name": "python",
   "nbconvert_exporter": "python",
   "pygments_lexer": "ipython3",
   "version": "3.8.10"
  }
 },
 "nbformat": 4,
 "nbformat_minor": 5
}
