{
 "cells": [
  {
   "cell_type": "code",
   "execution_count": 4,
   "id": "cdc36f76-3ed7-4a8a-a31e-ecedd4453d05",
   "metadata": {},
   "outputs": [],
   "source": [
    "import os\n",
    "os.environ[\"CUDA_VISIBLE_DEVICES\"] = \"4\""
   ]
  },
  {
   "cell_type": "code",
   "execution_count": 1,
   "id": "52cdb7fc-2c1d-46e7-887a-5e55aa486fd9",
   "metadata": {},
   "outputs": [],
   "source": [
    "import numpy as np\n",
    "from tensorflow.keras.datasets import mnist\n",
    "from tensorflow.keras.models import Sequential, Model\n",
    "from tensorflow.keras.layers import Dense, Input\n",
    "import matplotlib.pyplot as plt\n"
   ]
  },
  {
   "cell_type": "code",
   "execution_count": 2,
   "id": "d1894e67-5591-46ef-b363-676bf30dd280",
   "metadata": {},
   "outputs": [],
   "source": [
    "# Load MNIST dataset\n",
    "(x_train, _), (x_test, _) = mnist.load_data()\n",
    "\n",
    "# Normalize data to [0, 1]\n",
    "x_train = x_train.astype('float32') / 255.0\n",
    "x_test = x_test.astype('float32') / 255.0\n",
    "\n",
    "# Flatten data\n",
    "x_train = x_train.reshape((len(x_train), np.prod(x_train.shape[1:])))\n",
    "x_test = x_test.reshape((len(x_test), np.prod(x_test.shape[1:])))\n"
   ]
  },
  {
   "cell_type": "code",
   "execution_count": 3,
   "id": "b4abc51a-8e47-4708-aaac-e544cb2a659c",
   "metadata": {},
   "outputs": [
    {
     "name": "stderr",
     "output_type": "stream",
     "text": [
      "2023-10-10 15:29:46.786238: W tensorflow/core/common_runtime/gpu/gpu_bfc_allocator.cc:39] Overriding allow_growth setting because the TF_FORCE_GPU_ALLOW_GROWTH environment variable is set. Original config value was 0.\n",
      "2023-10-10 15:29:46.787487: W tensorflow/core/common_runtime/gpu/gpu_bfc_allocator.cc:39] Overriding allow_growth setting because the TF_FORCE_GPU_ALLOW_GROWTH environment variable is set. Original config value was 0.\n",
      "2023-10-10 15:29:46.788524: W tensorflow/core/common_runtime/gpu/gpu_bfc_allocator.cc:39] Overriding allow_growth setting because the TF_FORCE_GPU_ALLOW_GROWTH environment variable is set. Original config value was 0.\n",
      "2023-10-10 15:29:46.789561: W tensorflow/core/common_runtime/gpu/gpu_bfc_allocator.cc:39] Overriding allow_growth setting because the TF_FORCE_GPU_ALLOW_GROWTH environment variable is set. Original config value was 0.\n"
     ]
    }
   ],
   "source": [
    "# Parameters\n",
    "input_dim = x_train.shape[1]\n",
    "encoding_dim = 32  # Compressed representation dimension\n",
    "\n",
    "# Encoder model\n",
    "input_layer = Input(shape=(input_dim,))\n",
    "encoded_layer = Dense(encoding_dim, activation='relu')(input_layer)\n",
    "\n",
    "# Decoder model\n",
    "decoded_layer = Dense(input_dim, activation='sigmoid')(encoded_layer)\n",
    "\n",
    "# Full autoencoder model\n",
    "autoencoder = Model(input_layer, decoded_layer)\n",
    "\n",
    "# Compile the autoencoder\n",
    "autoencoder.compile(optimizer='adam', loss='binary_crossentropy')\n"
   ]
  },
  {
   "cell_type": "code",
   "execution_count": 5,
   "id": "e3ee92d4-660d-4eb5-9799-ecfde9b9e829",
   "metadata": {},
   "outputs": [
    {
     "name": "stdout",
     "output_type": "stream",
     "text": [
      "Epoch 1/50\n",
      "235/235 [==============================] - 3s 7ms/step - loss: 0.2758 - val_loss: 0.1836\n",
      "Epoch 2/50\n",
      "235/235 [==============================] - 1s 6ms/step - loss: 0.1672 - val_loss: 0.1519\n",
      "Epoch 3/50\n",
      "235/235 [==============================] - 2s 7ms/step - loss: 0.1433 - val_loss: 0.1331\n",
      "Epoch 4/50\n",
      "235/235 [==============================] - 2s 7ms/step - loss: 0.1281 - val_loss: 0.1211\n",
      "Epoch 5/50\n",
      "235/235 [==============================] - 2s 8ms/step - loss: 0.1184 - val_loss: 0.1131\n",
      "Epoch 6/50\n",
      "235/235 [==============================] - 1s 6ms/step - loss: 0.1114 - val_loss: 0.1072\n",
      "Epoch 7/50\n",
      "235/235 [==============================] - 1s 6ms/step - loss: 0.1064 - val_loss: 0.1034\n",
      "Epoch 8/50\n",
      "235/235 [==============================] - 1s 6ms/step - loss: 0.1027 - val_loss: 0.0998\n",
      "Epoch 9/50\n",
      "235/235 [==============================] - 2s 7ms/step - loss: 0.0999 - val_loss: 0.0974\n",
      "Epoch 10/50\n",
      "235/235 [==============================] - 1s 6ms/step - loss: 0.0979 - val_loss: 0.0958\n",
      "Epoch 11/50\n",
      "235/235 [==============================] - 1s 6ms/step - loss: 0.0966 - val_loss: 0.0948\n",
      "Epoch 12/50\n",
      "235/235 [==============================] - 2s 7ms/step - loss: 0.0957 - val_loss: 0.0940\n",
      "Epoch 13/50\n",
      "235/235 [==============================] - 1s 6ms/step - loss: 0.0951 - val_loss: 0.0935\n",
      "Epoch 14/50\n",
      "235/235 [==============================] - 1s 5ms/step - loss: 0.0947 - val_loss: 0.0931\n",
      "Epoch 15/50\n",
      "235/235 [==============================] - 1s 6ms/step - loss: 0.0944 - val_loss: 0.0929\n",
      "Epoch 16/50\n",
      "235/235 [==============================] - 1s 5ms/step - loss: 0.0942 - val_loss: 0.0928\n",
      "Epoch 17/50\n",
      "235/235 [==============================] - 1s 6ms/step - loss: 0.0940 - val_loss: 0.0927\n",
      "Epoch 18/50\n",
      "235/235 [==============================] - 1s 6ms/step - loss: 0.0938 - val_loss: 0.0925\n",
      "Epoch 19/50\n",
      "235/235 [==============================] - 1s 6ms/step - loss: 0.0937 - val_loss: 0.0923\n",
      "Epoch 20/50\n",
      "235/235 [==============================] - 1s 6ms/step - loss: 0.0936 - val_loss: 0.0922\n",
      "Epoch 21/50\n",
      "235/235 [==============================] - 1s 6ms/step - loss: 0.0935 - val_loss: 0.0922\n",
      "Epoch 22/50\n",
      "235/235 [==============================] - 2s 7ms/step - loss: 0.0934 - val_loss: 0.0923\n",
      "Epoch 23/50\n",
      "235/235 [==============================] - 1s 6ms/step - loss: 0.0933 - val_loss: 0.0921\n",
      "Epoch 24/50\n",
      "235/235 [==============================] - 1s 6ms/step - loss: 0.0933 - val_loss: 0.0920\n",
      "Epoch 25/50\n",
      "235/235 [==============================] - 1s 6ms/step - loss: 0.0932 - val_loss: 0.0920\n",
      "Epoch 26/50\n",
      "235/235 [==============================] - 1s 6ms/step - loss: 0.0932 - val_loss: 0.0919\n",
      "Epoch 27/50\n",
      "235/235 [==============================] - 1s 6ms/step - loss: 0.0932 - val_loss: 0.0919\n",
      "Epoch 28/50\n",
      "235/235 [==============================] - 1s 6ms/step - loss: 0.0931 - val_loss: 0.0919\n",
      "Epoch 29/50\n",
      "235/235 [==============================] - 1s 6ms/step - loss: 0.0931 - val_loss: 0.0918\n",
      "Epoch 30/50\n",
      "235/235 [==============================] - 1s 6ms/step - loss: 0.0930 - val_loss: 0.0919\n",
      "Epoch 31/50\n",
      "235/235 [==============================] - 1s 6ms/step - loss: 0.0930 - val_loss: 0.0918\n",
      "Epoch 32/50\n",
      "235/235 [==============================] - 1s 6ms/step - loss: 0.0930 - val_loss: 0.0918\n",
      "Epoch 33/50\n",
      "235/235 [==============================] - 1s 6ms/step - loss: 0.0929 - val_loss: 0.0917\n",
      "Epoch 34/50\n",
      "235/235 [==============================] - 1s 6ms/step - loss: 0.0929 - val_loss: 0.0918\n",
      "Epoch 35/50\n",
      "235/235 [==============================] - 1s 6ms/step - loss: 0.0929 - val_loss: 0.0917\n",
      "Epoch 36/50\n",
      "235/235 [==============================] - 1s 6ms/step - loss: 0.0928 - val_loss: 0.0917\n",
      "Epoch 37/50\n",
      "235/235 [==============================] - 1s 6ms/step - loss: 0.0928 - val_loss: 0.0916\n",
      "Epoch 38/50\n",
      "235/235 [==============================] - 1s 6ms/step - loss: 0.0928 - val_loss: 0.0916\n",
      "Epoch 39/50\n",
      "235/235 [==============================] - 1s 5ms/step - loss: 0.0928 - val_loss: 0.0916\n",
      "Epoch 40/50\n",
      "235/235 [==============================] - 1s 6ms/step - loss: 0.0927 - val_loss: 0.0917\n",
      "Epoch 41/50\n",
      "235/235 [==============================] - 1s 6ms/step - loss: 0.0927 - val_loss: 0.0916\n",
      "Epoch 42/50\n",
      "235/235 [==============================] - 1s 6ms/step - loss: 0.0927 - val_loss: 0.0915\n",
      "Epoch 43/50\n",
      "235/235 [==============================] - 1s 6ms/step - loss: 0.0927 - val_loss: 0.0915\n",
      "Epoch 44/50\n",
      "235/235 [==============================] - 2s 7ms/step - loss: 0.0927 - val_loss: 0.0915\n",
      "Epoch 45/50\n",
      "235/235 [==============================] - 2s 6ms/step - loss: 0.0927 - val_loss: 0.0915\n",
      "Epoch 46/50\n",
      "235/235 [==============================] - 1s 6ms/step - loss: 0.0927 - val_loss: 0.0915\n",
      "Epoch 47/50\n",
      "235/235 [==============================] - 1s 6ms/step - loss: 0.0926 - val_loss: 0.0915\n",
      "Epoch 48/50\n",
      "235/235 [==============================] - 1s 6ms/step - loss: 0.0926 - val_loss: 0.0915\n",
      "Epoch 49/50\n",
      "235/235 [==============================] - 1s 6ms/step - loss: 0.0926 - val_loss: 0.0914\n",
      "Epoch 50/50\n",
      "235/235 [==============================] - 1s 6ms/step - loss: 0.0926 - val_loss: 0.0916\n"
     ]
    }
   ],
   "source": [
    "history = autoencoder.fit(x_train, x_train,\n",
    "                          epochs=50,\n",
    "                          batch_size=256,\n",
    "                          shuffle=True,\n",
    "                          validation_data=(x_test, x_test),\n",
    "                          verbose=1)\n"
   ]
  },
  {
   "cell_type": "code",
   "execution_count": 6,
   "id": "2630d9d3-16a2-45b3-abde-1213be90da6a",
   "metadata": {},
   "outputs": [
    {
     "data": {
      "image/png": "[encoded data removed]",
      "text/plain": [
       "<Figure size 1440x288 with 20 Axes>"
      ]
     },
     "metadata": {
      "needs_background": "light"
     },
     "output_type": "display_data"
    }
   ],
   "source": [
    "# Use the autoencoder to reconstruct test images\n",
    "decoded_imgs = autoencoder.predict(x_test)\n",
    "\n",
    "# Display original and reconstructed images\n",
    "n = 10\n",
    "plt.figure(figsize=(20, 4))\n",
    "for i in range(n):\n",
    "    # Original images\n",
    "    ax = plt.subplot(2, n, i + 1)\n",
    "    plt.imshow(x_test[i].reshape(28, 28))\n",
    "    plt.gray()\n",
    "    ax.get_xaxis().set_visible(False)\n",
    "    ax.get_yaxis().set_visible(False)\n",
    "\n",
    "    # Reconstruction of the image\n",
    "    ax = plt.subplot(2, n, i + 1 + n)\n",
    "    plt.imshow(decoded_imgs[i].reshape(28, 28))\n",
    "    plt.gray()\n",
    "    ax.get_xaxis().set_visible(False)\n",
    "    ax.get_yaxis().set_visible(False)\n",
    "plt.show()\n"
   ]
  },
  {
   "cell_type": "code",
   "execution_count": 24,
   "id": "d3d9b8c5-42f5-4f08-b1ec-7ce836d27969",
   "metadata": {},
   "outputs": [],
   "source": [
    "# Obtain the reconstruction of the test data (normal + anomalies)\n",
    "decoded_data = autoencoder.predict(x_test)\n",
    "\n",
    "mse = np.mean(np.power((decoded_data-x_test),2),axis=1)\n",
    "# Plot the MSE\n"
   ]
  },
  {
   "cell_type": "code",
   "execution_count": 25,
   "id": "45b4477e-98d9-4abd-ae1f-9a3221fbee4c",
   "metadata": {},
   "outputs": [
    {
     "data": {
      "image/png": "[encoded data removed]",
      "text/plain": [
       "<Figure size 1440x288 with 10 Axes>"
      ]
     },
     "metadata": {
      "needs_background": "light"
     },
     "output_type": "display_data"
    },
    {
     "data": {
      "image/png": "[encoded data removed]",
      "text/plain": [
       "<Figure size 1440x288 with 10 Axes>"
      ]
     },
     "metadata": {
      "needs_background": "light"
     },
     "output_type": "display_data"
    }
   ],
   "source": [
    "sorted_indices = mse.argsort()[::-1]\n",
    "# Display some samples with highest MSE (biggest anomalies)\n",
    "plt.figure(figsize=(20, 4))\n",
    "for i, index in enumerate(sorted_indices[:10]):\n",
    "    ax = plt.subplot(2, 10, i + 1)\n",
    "    plt.imshow(x_test[index].reshape(28, 28), cmap='gray')\n",
    "    ax.axis('off')\n",
    "\n",
    "plt.tight_layout()\n",
    "plt.suptitle(\"Top Anomalies (Highest MSE)\", size=16, y=1.1)\n",
    "plt.show()\n",
    "\n",
    "# Display some samples with lowest MSE (least anomalies)\n",
    "plt.figure(figsize=(20, 4))\n",
    "for i, index in enumerate(sorted_indices[-10:]):\n",
    "    ax = plt.subplot(2, 10, i + 1)\n",
    "    plt.imshow(x_test[index].reshape(28, 28), cmap='gray')\n",
    "    ax.axis('off')\n",
    "\n",
    "plt.tight_layout()\n",
    "plt.suptitle(\"Least Anomalous (Lowest MSE)\", size=16, y=1.1)\n",
    "plt.show()\n"
   ]
  }
 ],
 "metadata": {
  "kernelspec": {
   "display_name": "Python 3 (ipykernel)",
   "language": "python",
   "name": "python3"
  },
  "language_info": {
   "codemirror_mode": {
    "name": "ipython",
    "version": 3
   },
   "file_extension": ".py",
   "mimetype": "text/x-python",
   "name": "python",
   "nbconvert_exporter": "python",
   "pygments_lexer": "ipython3",
   "version": "3.8.10"
  }
 },
 "nbformat": 4,
 "nbformat_minor": 5
}
