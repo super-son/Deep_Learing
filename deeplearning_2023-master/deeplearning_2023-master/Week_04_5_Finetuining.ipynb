{
  "nbformat": 4,
  "nbformat_minor": 0,
  "metadata": {
    "colab": {
      "provenance": [],
      "gpuType": "T4"
    },
    "kernelspec": {
      "name": "python3",
      "display_name": "Python 3"
    },
    "language_info": {
      "name": "python"
    },
    "accelerator": "GPU"
  },
  "cells": [
    {
      "cell_type": "code",
      "execution_count": null,
      "metadata": {
        "colab": {
          "base_uri": "https://localhost:8080/"
        },
        "id": "5KpGsaj-nL3A",
        "outputId": "c5ab5305-9e31-4531-e9c8-fd2f5d13ea14"
      },
      "outputs": [
        {
          "output_type": "stream",
          "name": "stderr",
          "text": [
            "WARNING:tensorflow:`input_shape` is undefined or non-square, or `rows` is not in [96, 128, 160, 192, 224]. Weights for input shape (224, 224) will be loaded as the default.\n"
          ]
        },
        {
          "output_type": "stream",
          "name": "stdout",
          "text": [
            "Epoch 1/5\n",
            "1563/1563 [==============================] - 28s 16ms/step - loss: 1.2775 - accuracy: 0.5629 - val_loss: 1.1824 - val_accuracy: 0.5975\n",
            "Epoch 2/5\n",
            "1563/1563 [==============================] - 25s 16ms/step - loss: 1.0681 - accuracy: 0.6332 - val_loss: 1.0529 - val_accuracy: 0.6374\n",
            "Epoch 3/5\n",
            "1563/1563 [==============================] - 25s 16ms/step - loss: 1.0162 - accuracy: 0.6525 - val_loss: 0.9786 - val_accuracy: 0.6650\n",
            "Epoch 4/5\n",
            "1563/1563 [==============================] - 24s 15ms/step - loss: 0.9927 - accuracy: 0.6608 - val_loss: 1.0878 - val_accuracy: 0.6313\n",
            "Epoch 5/5\n",
            "1563/1563 [==============================] - 24s 15ms/step - loss: 0.9854 - accuracy: 0.6633 - val_loss: 1.0376 - val_accuracy: 0.6526\n",
            "313/313 [==============================] - 4s 12ms/step - loss: 1.0376 - accuracy: 0.6526\n",
            "Test loss: 1.0375804901123047\n",
            "Test accuracy: 0.6525999903678894\n"
          ]
        }
      ],
      "source": [
        "import tensorflow as tf\n",
        "from tensorflow.keras.datasets import cifar10\n",
        "from tensorflow.keras.applications import MobileNetV2\n",
        "from tensorflow.keras.models import Sequential\n",
        "from tensorflow.keras.layers import Dense, GlobalAveragePooling2D, UpSampling2D\n",
        "from tensorflow.keras.utils import to_categorical\n",
        "from tensorflow.keras.callbacks import EarlyStopping\n",
        "from tensorflow.keras.preprocessing.image import ImageDataGenerator\n",
        "\n",
        "# Load CIFAR-10 data\n",
        "(x_train, y_train), (x_test, y_test) = cifar10.load_data()\n",
        "\n",
        "# Normalize pixel values to be between 0 and 1\n",
        "x_train, x_test = x_train / 255.0, x_test / 255.0\n",
        "\n",
        "# Convert class vectors to binary class matrices (one-hot encoding)\n",
        "y_train = to_categorical(y_train, 10)\n",
        "y_test = to_categorical(y_test, 10)\n",
        "\n",
        "# Define the model\n",
        "model = Sequential()\n",
        "\n",
        "# Upsample images to at least 96x96x3\n",
        "model.add(UpSampling2D(size=(3, 3), input_shape=(32, 32, 3)))\n",
        "\n",
        "# Add MobileNetV2 model without the top layer (include_top=False)\n",
        "model.add(MobileNetV2(weights='imagenet', include_top=False))\n",
        "\n",
        "# Add global average pooling layer\n",
        "model.add(GlobalAveragePooling2D())\n",
        "\n",
        "# Add a fully connected layer with softmax activation for 10 classes\n",
        "model.add(Dense(10, activation='softmax'))\n",
        "\n",
        "# Freeze all layers in the base MobileNetV2 model\n",
        "for layer in model.layers[1].layers:\n",
        "    layer.trainable = False\n",
        "\n",
        "# Compile the model\n",
        "model.compile(optimizer='adam', loss='categorical_crossentropy', metrics=['accuracy'])\n",
        "\n",
        "# Define early stopping\n",
        "early_stopping = EarlyStopping(monitor='val_loss', patience=5)\n",
        "\n",
        "# Train the model with the data augmentation generator\n",
        "model.fit(x_train, y_train, batch_size=32,\n",
        "          epochs=5,\n",
        "          validation_data=(x_test, y_test))\n",
        "\n",
        "# Evaluate the model\n",
        "scores = model.evaluate(x_test, y_test, verbose=1)\n",
        "print('Test loss:', scores[0])\n",
        "print('Test accuracy:', scores[1])\n"
      ]
    },
    {
      "cell_type": "code",
      "source": [
        "# Suppose you decide to unfreeze the last 20 layers:\n",
        "for layer in model.layers[1].layers[-20:]:\n",
        "    layer.trainable = True\n",
        "\n",
        "# Recompile the model with a lower learning rate for fine-tuning\n",
        "model.compile(optimizer=tf.keras.optimizers.Adam(learning_rate=1e-5),\n",
        "              loss='categorical_crossentropy',\n",
        "              metrics=['accuracy'])\n",
        "\n",
        "# Train the model with the data augmentation generator\n",
        "model.fit(x_train, y_train, batch_size=32,\n",
        "          epochs=5,\n",
        "          validation_data=(x_test, y_test))\n",
        "\n"
      ],
      "metadata": {
        "colab": {
          "base_uri": "https://localhost:8080/"
        },
        "id": "oQtxBwkr2MI4",
        "outputId": "6ae9700c-7460-4d91-d73c-2902c325921a"
      },
      "execution_count": null,
      "outputs": [
        {
          "output_type": "stream",
          "name": "stdout",
          "text": [
            "Epoch 1/5\n",
            "1563/1563 [==============================] - 101s 21ms/step - loss: 1.1827 - accuracy: 0.6001 - val_loss: 0.9988 - val_accuracy: 0.6624\n",
            "Epoch 2/5\n",
            "1563/1563 [==============================] - 30s 19ms/step - loss: 0.8817 - accuracy: 0.6951 - val_loss: 0.8558 - val_accuracy: 0.7099\n",
            "Epoch 3/5\n",
            "1563/1563 [==============================] - 31s 20ms/step - loss: 0.7660 - accuracy: 0.7352 - val_loss: 0.7883 - val_accuracy: 0.7299\n",
            "Epoch 4/5\n",
            "1563/1563 [==============================] - 31s 20ms/step - loss: 0.6848 - accuracy: 0.7592 - val_loss: 0.7465 - val_accuracy: 0.7477\n",
            "Epoch 5/5\n",
            "1563/1563 [==============================] - 32s 20ms/step - loss: 0.6243 - accuracy: 0.7818 - val_loss: 0.7227 - val_accuracy: 0.7543\n"
          ]
        },
        {
          "output_type": "execute_result",
          "data": {
            "text/plain": [
              "<keras.src.callbacks.History at 0x7ce243a1fc40>"
            ]
          },
          "metadata": {},
          "execution_count": 7
        }
      ]
    },
    {
      "cell_type": "code",
      "source": [
        "# Train the model with the data augmentation generator\n",
        "model.fit(x_train, y_train, batch_size=32,\n",
        "          epochs=5,\n",
        "          validation_data=(x_test, y_test))"
      ],
      "metadata": {
        "colab": {
          "base_uri": "https://localhost:8080/"
        },
        "id": "wfCtiIMD3OKo",
        "outputId": "2187042c-5de0-47f7-8a05-d2850c455686"
      },
      "execution_count": null,
      "outputs": [
        {
          "output_type": "stream",
          "name": "stdout",
          "text": [
            "Epoch 1/5\n",
            "1563/1563 [==============================] - 30s 19ms/step - loss: 0.5742 - accuracy: 0.8003 - val_loss: 0.6970 - val_accuracy: 0.7657\n",
            "Epoch 2/5\n",
            "1563/1563 [==============================] - 31s 20ms/step - loss: 0.5307 - accuracy: 0.8131 - val_loss: 0.6816 - val_accuracy: 0.7702\n",
            "Epoch 3/5\n",
            "1563/1563 [==============================] - 32s 20ms/step - loss: 0.4924 - accuracy: 0.8267 - val_loss: 0.6695 - val_accuracy: 0.7763\n",
            "Epoch 4/5\n",
            "1563/1563 [==============================] - 30s 19ms/step - loss: 0.4582 - accuracy: 0.8398 - val_loss: 0.6633 - val_accuracy: 0.7788\n",
            "Epoch 5/5\n",
            "1563/1563 [==============================] - 31s 20ms/step - loss: 0.4299 - accuracy: 0.8500 - val_loss: 0.6539 - val_accuracy: 0.7822\n"
          ]
        },
        {
          "output_type": "execute_result",
          "data": {
            "text/plain": [
              "<keras.src.callbacks.History at 0x7ce17a18d9f0>"
            ]
          },
          "metadata": {},
          "execution_count": 8
        }
      ]
    },
    {
      "cell_type": "code",
      "source": [
        "scores = model.evaluate(x_test, y_test, verbose=1)"
      ],
      "metadata": {
        "colab": {
          "base_uri": "https://localhost:8080/"
        },
        "id": "igFiA4hV38Ow",
        "outputId": "15a08e67-9a05-410f-877f-35ae6b098ca7"
      },
      "execution_count": null,
      "outputs": [
        {
          "output_type": "stream",
          "name": "stdout",
          "text": [
            "313/313 [==============================] - 4s 12ms/step - loss: 0.6539 - accuracy: 0.7822\n"
          ]
        }
      ]
    },
    {
      "cell_type": "code",
      "source": [
        "scores"
      ],
      "metadata": {
        "id": "pzOuEF0P4DLg",
        "outputId": "d5d0ba8c-a4e5-4450-d95b-9ae112d90be9",
        "colab": {
          "base_uri": "https://localhost:8080/"
        }
      },
      "execution_count": null,
      "outputs": [
        {
          "output_type": "execute_result",
          "data": {
            "text/plain": [
              "[0.65389484167099, 0.7821999788284302]"
            ]
          },
          "metadata": {},
          "execution_count": 10
        }
      ]
    }
  ]
}