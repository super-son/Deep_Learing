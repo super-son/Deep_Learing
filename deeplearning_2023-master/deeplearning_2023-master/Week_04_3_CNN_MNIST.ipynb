{
 "cells": [
  {
   "cell_type": "markdown",
   "metadata": {
    "id": "kXe-mLWJH3J1"
   },
   "source": [
    "## CNN으로 MNIST 분류하기"
   ]
  },
  {
   "cell_type": "code",
   "execution_count": null,
   "metadata": {
    "id": "9NdZHLssHv6c"
   },
   "outputs": [],
   "source": [
    "import tensorflow as tf\n",
    "from tensorflow.keras.datasets import mnist # mnist 데이터셋 불러오기\n",
    "from tensorflow.keras.models import Sequential # 레이어를 순서대로 쌓을 그릇\n",
    "from tensorflow.keras.layers import Conv2D, MaxPooling2D, Flatten, Dense, Dropout #CNN Layer 재료\n",
    "from tensorflow.keras.utils import to_categorical # 원핫인코딩\n"
   ]
  },
  {
   "cell_type": "markdown",
   "metadata": {
    "id": "-gEOGODAIg4z"
   },
   "source": [
    "## 데이터 불러오기, 전처리"
   ]
  },
  {
   "cell_type": "code",
   "execution_count": null,
   "metadata": {
    "colab": {
     "base_uri": "https://localhost:8080/"
    },
    "id": "KjC556DbIjY4",
    "outputId": "40fb989b-5074-4cb1-cf78-779cba08e3e8"
   },
   "outputs": [
    {
     "name": "stdout",
     "output_type": "stream",
     "text": [
      "Downloading data from https://storage.googleapis.com/tensorflow/tf-keras-datasets/mnist.npz\n",
      "11490434/11490434 [==============================] - 0s 0us/step\n"
     ]
    }
   ],
   "source": [
    "(x_train, y_train),(x_test, y_test) = mnist.load_data() # 데이터 불러오기\n",
    "x_train = x_train/255.0 # 0~1사이의 값을 갖도록 스케일링\n",
    "x_test = x_test/255.0 # 0~1사이의 값을 갖도록 스케일링\n",
    "y_train = to_categorical(y_train) #원핫인코딩\n",
    "y_test = to_categorical(y_test) #원핫 인코딩"
   ]
  },
  {
   "cell_type": "code",
   "execution_count": null,
   "metadata": {
    "colab": {
     "base_uri": "https://localhost:8080/"
    },
    "id": "fYf8REPWJB1g",
    "outputId": "16db8d40-ddee-4150-db15-3d4c3238b904"
   },
   "outputs": [
    {
     "data": {
      "text/plain": [
       "((60000, 28, 28), (10000, 28, 28), (60000, 10), (10000, 10))"
      ]
     },
     "execution_count": 5,
     "metadata": {},
     "output_type": "execute_result"
    }
   ],
   "source": [
    "x_train.shape, x_test.shape, y_train.shape, y_test.shape"
   ]
  },
  {
   "cell_type": "code",
   "execution_count": null,
   "metadata": {
    "id": "77DVP6GYJRY9"
   },
   "outputs": [],
   "source": [
    "from sklearn.model_selection import train_test_split\n",
    "x_train, x_valid, y_train, y_valid= train_test_split(x_train,y_train,\n",
    "                                                     test_size=0.2,\n",
    "                                                     shuffle=True)"
   ]
  },
  {
   "cell_type": "markdown",
   "metadata": {
    "id": "Pu-Qy64FKChp"
   },
   "source": [
    "## CNN 구축"
   ]
  },
  {
   "cell_type": "code",
   "execution_count": null,
   "metadata": {
    "id": "kjV0CL5tJwOK"
   },
   "outputs": [],
   "source": [
    "model = Sequential()\n",
    "model.add(Conv2D(filters=32, kernel_size=(3,3),activation='relu',input_shape=(28,28,1)))\n",
    "model.add(MaxPooling2D(pool_size=(2,2)))\n",
    "model.add(Conv2D(filters=64, kernel_size=(3,3),activation='relu'))\n",
    "model.add(MaxPooling2D(pool_size=(2,2)))\n",
    "model.add(Flatten())\n",
    "model.add(Dense(128,activation='relu'))\n",
    "model.add(Dropout(0.5)) # 모델 규\n",
    "model.add(Dense(10, activation='softmax'))"
   ]
  },
  {
   "cell_type": "code",
   "execution_count": null,
   "metadata": {
    "colab": {
     "base_uri": "https://localhost:8080/"
    },
    "id": "zxdzW4dfMxy8",
    "outputId": "bae8b5e9-9f0b-429c-dd88-e1a97eab1180"
   },
   "outputs": [
    {
     "name": "stdout",
     "output_type": "stream",
     "text": [
      "Model: \"sequential_1\"\n",
      "_________________________________________________________________\n",
      " Layer (type)                Output Shape              Param #   \n",
      "=================================================================\n",
      " conv2d_2 (Conv2D)           (None, 26, 26, 32)        320       \n",
      "                                                                 \n",
      " max_pooling2d_2 (MaxPoolin  (None, 13, 13, 32)        0         \n",
      " g2D)                                                            \n",
      "                                                                 \n",
      " conv2d_3 (Conv2D)           (None, 11, 11, 64)        18496     \n",
      "                                                                 \n",
      " max_pooling2d_3 (MaxPoolin  (None, 5, 5, 64)          0         \n",
      " g2D)                                                            \n",
      "                                                                 \n",
      " flatten_1 (Flatten)         (None, 1600)              0         \n",
      "                                                                 \n",
      " dense_2 (Dense)             (None, 128)               204928    \n",
      "                                                                 \n",
      " dropout_1 (Dropout)         (None, 128)               0         \n",
      "                                                                 \n",
      " dense_3 (Dense)             (None, 10)                1290      \n",
      "                                                                 \n",
      "=================================================================\n",
      "Total params: 225034 (879.04 KB)\n",
      "Trainable params: 225034 (879.04 KB)\n",
      "Non-trainable params: 0 (0.00 Byte)\n",
      "_________________________________________________________________\n"
     ]
    }
   ],
   "source": [
    "model.summary()\n"
   ]
  },
  {
   "cell_type": "code",
   "execution_count": null,
   "metadata": {
    "id": "71C_t-QvQXB8"
   },
   "outputs": [],
   "source": [
    "model.compile(optimizer = 'adam', loss='categorical_crossentropy', metrics=['accuracy'])"
   ]
  },
  {
   "cell_type": "code",
   "execution_count": null,
   "metadata": {
    "colab": {
     "base_uri": "https://localhost:8080/"
    },
    "id": "70g9XwxvQi5w",
    "outputId": "e05fe433-77d3-4c6d-bb8a-735fcb12aa80"
   },
   "outputs": [
    {
     "name": "stdout",
     "output_type": "stream",
     "text": [
      "Epoch 1/10\n",
      "1500/1500 [==============================] - 41s 27ms/step - loss: 0.2333 - accuracy: 0.9289 - val_loss: 0.0652 - val_accuracy: 0.9810\n",
      "Epoch 2/10\n",
      "1500/1500 [==============================] - 42s 28ms/step - loss: 0.0858 - accuracy: 0.9746 - val_loss: 0.0416 - val_accuracy: 0.9881\n",
      "Epoch 3/10\n",
      "1500/1500 [==============================] - 40s 27ms/step - loss: 0.0643 - accuracy: 0.9807 - val_loss: 0.0394 - val_accuracy: 0.9884\n",
      "Epoch 4/10\n",
      "1500/1500 [==============================] - 43s 28ms/step - loss: 0.0516 - accuracy: 0.9847 - val_loss: 0.0384 - val_accuracy: 0.9897\n",
      "Epoch 5/10\n",
      "1500/1500 [==============================] - 40s 26ms/step - loss: 0.0433 - accuracy: 0.9869 - val_loss: 0.0356 - val_accuracy: 0.9897\n",
      "Epoch 6/10\n",
      "1500/1500 [==============================] - 40s 26ms/step - loss: 0.0371 - accuracy: 0.9884 - val_loss: 0.0333 - val_accuracy: 0.9901\n",
      "Epoch 7/10\n",
      "1500/1500 [==============================] - 40s 27ms/step - loss: 0.0315 - accuracy: 0.9905 - val_loss: 0.0432 - val_accuracy: 0.9890\n",
      "Epoch 8/10\n",
      "1500/1500 [==============================] - 41s 27ms/step - loss: 0.0264 - accuracy: 0.9918 - val_loss: 0.0368 - val_accuracy: 0.9912\n",
      "Epoch 9/10\n",
      "1500/1500 [==============================] - 39s 26ms/step - loss: 0.0243 - accuracy: 0.9923 - val_loss: 0.0387 - val_accuracy: 0.9904\n",
      "Epoch 10/10\n",
      "1500/1500 [==============================] - 39s 26ms/step - loss: 0.0248 - accuracy: 0.9925 - val_loss: 0.0401 - val_accuracy: 0.9909\n"
     ]
    }
   ],
   "source": [
    "history = model.fit(x_train, y_train,\n",
    "                    epochs=10,\n",
    "                    batch_size=32,\n",
    "                    validation_data=(x_valid,y_valid))"
   ]
  }
 ],
 "metadata": {
  "colab": {
   "provenance": []
  },
  "kernelspec": {
   "display_name": "Python 3 (ipykernel)",
   "language": "python",
   "name": "python3"
  },
  "language_info": {
   "codemirror_mode": {
    "name": "ipython",
    "version": 3
   },
   "file_extension": ".py",
   "mimetype": "text/x-python",
   "name": "python",
   "nbconvert_exporter": "python",
   "pygments_lexer": "ipython3",
   "version": "3.8.10"
  }
 },
 "nbformat": 4,
 "nbformat_minor": 4
}
