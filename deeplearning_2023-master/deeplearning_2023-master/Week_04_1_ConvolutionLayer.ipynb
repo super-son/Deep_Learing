{
 "cells": [
  {
   "cell_type": "markdown",
   "id": "b06f6174-3665-4376-94c9-98004a6ef297",
   "metadata": {},
   "source": [
    "## Convolution Layer 이해하기"
   ]
  },
  {
   "cell_type": "markdown",
   "id": "c8f6bb2c-e8b7-4fef-863e-8f80154feaea",
   "metadata": {},
   "source": [
    "Conv2D (2차원 합성곱)는 많은 딥러닝 프레임워크, 특히 TensorFlow와 Keras에서 사용되는 핵심 레이어로, 2차원 합성곱 신경망 (CNN)을 구현하는 데 사용됩니다. CNN은 이미지 데이터를 다루는 작업에 특히 효과적이지만 그리드 형식의 데이터 구조를 다루는 다양한 작업에도 적용할 수 있습니다. 다음은 Conv2D에 대한 설명과 동작 방식에 대한 내용입니다:"
   ]
  },
  {
   "cell_type": "code",
   "execution_count": 27,
   "id": "5c8f8a39-6717-48e0-86e3-2802f8d8d248",
   "metadata": {},
   "outputs": [],
   "source": [
    "import tensorflow as tf\n",
    "from tensorflow.keras.layers import Conv2D\n",
    "import numpy as np"
   ]
  },
  {
   "cell_type": "markdown",
   "id": "fa72acc1-0460-44d7-bfeb-f62656572577",
   "metadata": {
    "tags": []
   },
   "source": [
    "## 데이터 생성"
   ]
  },
  {
   "cell_type": "markdown",
   "id": "2a6cc0a5-673e-4821-bce9-2a7ebab7d96d",
   "metadata": {},
   "source": [
    "해당 코드는 NumPy를 사용하여 생성한 4x4 크기의 이미지를 나타내는 다차원 배열입니다. 코드와 배열의 주요 내용을 한글로 설명하겠습니다:"
   ]
  },
  {
   "cell_type": "code",
   "execution_count": 34,
   "id": "64659083-c36f-4672-acca-3000e143c4b9",
   "metadata": {},
   "outputs": [
    {
     "data": {
      "text/plain": [
       "array([[ 1.,  2.,  3.,  4.],\n",
       "       [ 5.,  6.,  7.,  8.],\n",
       "       [ 9., 10., 11., 12.],\n",
       "       [13., 14., 15., 16.]], dtype=float32)"
      ]
     },
     "execution_count": 34,
     "metadata": {},
     "output_type": "execute_result"
    }
   ],
   "source": [
    "# 4x4 크기의 이미지를 나타내는 NumPy 배열을 생성합니다.\n",
    "image = np.array([[1,2,3,4],[5,6,7,8],[9,10,11,12],[13,14,15,16]], dtype=np.float32)\n",
    "\n",
    "# dtype=np.float32를 사용하여 배열의 데이터 타입을 '부동소수점 32비트'로 설정합니다.\n",
    "# 이는 이미지의 각 픽셀 값이 소수점을 가질 수 있도록 합니다.\n",
    "image"
   ]
  },
  {
   "cell_type": "markdown",
   "id": "c6308fbe-77a7-49b0-975b-8b0b5b9bae0d",
   "metadata": {},
   "source": [
    "## 이미지 데이터 시각화해보기"
   ]
  },
  {
   "cell_type": "markdown",
   "id": "6c141988-d002-4dbb-a369-c80feede0735",
   "metadata": {},
   "source": [
    "이 코드는 Matplotlib를 사용하여 이미지 데이터를 시각화하는 코드입니다. plt.imshow() 함수를 사용하여 이미지를 화면에 표시합니다"
   ]
  },
  {
   "cell_type": "code",
   "execution_count": 29,
   "id": "a4e574ca-d68b-4d09-99ed-2bd95dc550d7",
   "metadata": {},
   "outputs": [
    {
     "data": {
      "text/plain": [
       "<matplotlib.image.AxesImage at 0x7f40781d3c70>"
      ]
     },
     "execution_count": 29,
     "metadata": {},
     "output_type": "execute_result"
    },
    {
     "data": {
      "image/png": "[encoded data removed]",
      "text/plain": [
       "<Figure size 432x288 with 1 Axes>"
      ]
     },
     "metadata": {
      "needs_background": "light"
     },
     "output_type": "display_data"
    }
   ],
   "source": [
    "import matplotlib.pyplot as plt\n",
    "plt.imshow(image)"
   ]
  },
  {
   "cell_type": "markdown",
   "id": "3a307d1d-96dc-496f-9a5c-880d02febbef",
   "metadata": {},
   "source": [
    "## 케라스 레이어로 처리를 위한 이미지 데이터 차원 재구성"
   ]
  },
  {
   "cell_type": "markdown",
   "id": "7f123bca-35c5-4b90-9730-90381c2a2f90",
   "metadata": {},
   "source": [
    "reshape() 함수를 사용하여 배열의 형태를 변경했으며, 여기서는 이미지를 배치(batch)로 처리할 수 있도록 4차원 배열로 재구성합니다. 각 차원은 다음과 같이 해석할 수 있습니다.\n",
    "\n",
    "* 첫 번째 차원 (1): 이미지 배치의 크기를 나타냅니다. 이 경우에는 하나의 이미지를 처리하므로 배치 크기가 1입니다.\n",
    "* 두 번째 차원 (4): 이미지의 높이를 나타냅니다. 이 경우에는 4픽셀 높이가 있습니다.\n",
    "* 세 번째 차원 (4): 이미지의 너비를 나타냅니다. 이 경우에는 4픽셀 너비가 있습니다.\n",
    "* 네 번째 차원 (1): 이미지의 채널 수를 나타냅니다. 이 경우에는 흑백 이미지이므로 채널 수가 1입니다."
   ]
  },
  {
   "cell_type": "code",
   "execution_count": 30,
   "id": "35978761-d789-490a-8b2e-3b12771a67b5",
   "metadata": {},
   "outputs": [],
   "source": [
    "image = image.reshape((1,4,4,1))"
   ]
  },
  {
   "cell_type": "markdown",
   "id": "b46252e9-b095-49eb-972c-d9c866c4815e",
   "metadata": {
    "tags": []
   },
   "source": [
    "## Conv2D 레이어 정의"
   ]
  },
  {
   "cell_type": "markdown",
   "id": "2625de2c-51c3-4584-bb23-ffebc337ff34",
   "metadata": {},
   "source": [
    "이 코드는 Keras에서 Conv2D 레이어를 정의하는 예제입니다. Conv2D 레이어는 합성곱 신경망(Convolutional Neural Network, CNN) 모델의 핵심 구성 요소 중 하나로, 이미지나 그리드 데이터에서 특징을 추출하는 데 사용됩니다. 코드의 각 인수 및 설정에 대한 설명은 다음과 같습니다:\n",
    "\n",
    "* filters=1: 이 레이어에서 사용할 필터(또는 커널)의 수를 나타냅니다. 1개의 필터를 사용하므로 이 레이어는 하나의 특징 맵(feature map)을 생성합니다.\n",
    "\n",
    "* kernel_size=(3, 3): 필터의 크기를 정의합니다. 이 경우, 3x3 크기의 필터가 사용됩니다. 이 필터는 입력 데이터를 슬라이딩하여 합성곱 연산을 수행할 때 사용됩니다.\n",
    "\n",
    "* activation='relu': 활성화 함수를 지정합니다. 이 레이어에서는 ReLU (Rectified Linear Unit) 활성화 함수가 사용됩니다. ReLU는 주로 합성곱 레이어 다음에 적용되어 비선형성을 도입합니다.\n",
    "\n",
    "* input_shape=(4, 4, 1): 입력 데이터의 모양(shape)를 정의합니다. 이 레이어에는 4x4 크기의 입력 이미지가 있으며, 각 이미지는 단일 채널로 구성됩니다. 1은 흑백 이미지를 나타내며, 컬러 이미지의 경우 채널 수가 3(RGB)이 될 것입니다.\n",
    "\n"
   ]
  },
  {
   "cell_type": "code",
   "execution_count": 31,
   "id": "6a835f1a-483b-44c1-8796-107ee7cd1e32",
   "metadata": {},
   "outputs": [],
   "source": [
    "conv_layer = Conv2D(filters=1,\n",
    "                    kernel_size=(3,3),\n",
    "                    activation='relu',\n",
    "                    input_shape=(4,4,1))"
   ]
  },
  {
   "cell_type": "markdown",
   "id": "be816a33-100f-453d-98fc-37b388d7f189",
   "metadata": {},
   "source": [
    "## Conv2D 레이어 연산결과"
   ]
  },
  {
   "cell_type": "markdown",
   "id": "fc08e3d1-c932-4112-8553-ed793c460d9e",
   "metadata": {},
   "source": [
    "출력 결과를 해석하면, 입력 이미지를 Conv2D 레이어에 통과시켜 얻은 출력 데이터로, 각 위치에서 계산된 값이 표시됩니다. 이 출력은 입력 이미지를 필터(커널)와 합성곱하여 얻은 특징 맵(feature map)이며, 특징을 추출한 결과입니다."
   ]
  },
  {
   "cell_type": "code",
   "execution_count": 32,
   "id": "fbb30cdf-c260-42ff-9756-834d90fbcf3f",
   "metadata": {},
   "outputs": [
    {
     "data": {
      "text/plain": [
       "<tf.Tensor: shape=(1, 2, 2, 1), dtype=float32, numpy=\n",
       "array([[[[1.4884605],\n",
       "         [2.930644 ]],\n",
       "\n",
       "        [[7.257194 ],\n",
       "         [8.699378 ]]]], dtype=float32)>"
      ]
     },
     "execution_count": 32,
     "metadata": {},
     "output_type": "execute_result"
    }
   ],
   "source": [
    "conv_layer(image)"
   ]
  },
  {
   "cell_type": "code",
   "execution_count": null,
   "id": "d2e4360f-03a2-4b17-a2b5-294c5d094635",
   "metadata": {},
   "outputs": [],
   "source": []
  },
  {
   "cell_type": "markdown",
   "id": "7693edd4-8df9-4b79-80cd-a791d1acddcd",
   "metadata": {},
   "source": [
    "## 연습문제"
   ]
  },
  {
   "cell_type": "markdown",
   "id": "85e23c2b-be40-4214-af25-958ba7e180f7",
   "metadata": {},
   "source": [
    "1. filter를 2개로 변경하였을때 어떤 결과가 나오는지 살펴보자\n",
    "2. kernel_size를 (2,2)로 줄이면 어떤 결과가 나오는가?\n",
    "3. input_shape = (4,4,3)으로 바꾸고 레이어에 통과될 수 있도록 데이터를 변경하여 계산하여 보시오"
   ]
  }
 ],
 "metadata": {
  "kernelspec": {
   "display_name": "Python 3 (ipykernel)",
   "language": "python",
   "name": "python3"
  },
  "language_info": {
   "codemirror_mode": {
    "name": "ipython",
    "version": 3
   },
   "file_extension": ".py",
   "mimetype": "text/x-python",
   "name": "python",
   "nbconvert_exporter": "python",
   "pygments_lexer": "ipython3",
   "version": "3.8.10"
  }
 },
 "nbformat": 4,
 "nbformat_minor": 5
}
