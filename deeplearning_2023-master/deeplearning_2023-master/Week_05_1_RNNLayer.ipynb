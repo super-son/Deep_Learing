{
 "cells": [
  {
   "cell_type": "code",
   "execution_count": 1,
   "id": "53159949-868b-47be-b8d0-cba95dd3d111",
   "metadata": {},
   "outputs": [],
   "source": [
    "import numpy as np\n",
    "import tensorflow as tf\n",
    "from tensorflow.keras.layers import Input, SimpleRNN\n",
    "from tensorflow.keras.models import Model\n"
   ]
  },
  {
   "cell_type": "markdown",
   "id": "bb10a491-9925-4c40-93fe-e4c95abe20de",
   "metadata": {},
   "source": [
    "## RNN 처리를 위한 데이터 생성"
   ]
  },
  {
   "cell_type": "markdown",
   "id": "69320653-d651-45c0-9b56-5828d89adbb9",
   "metadata": {},
   "source": [
    "* batch_size는 학습 데이터를 몇 개의 묶음으로 나누어 처리할 것인지를 나타냅니다. 예를 들어, batch_size가 3이면 한 번에 3개의 데이터 샘플을 모델에 입력으로 제공합니다.\n",
    "\n",
    "* seq_length는 각 데이터 샘플이 가지는 시퀀스 길이를 나타냅니다. 시퀀스 길이란 각 데이터 포인트가 연속된 시간 스텝으로 구성되는 경우, 그 시간 스텝의 수를 나타냅니다. 예를 들어, 시계열 데이터에서 4개의 연속된 시간 스텝을 사용하는 경우 seq_length는 4가 됩니다.\n",
    "\n",
    "* input_features는 각 시간 스텝에서 사용되는 입력 특성의 수를 나타냅니다. 이것은 모델에 입력되는 데이터의 차원을 나타냅니다. 예를 들어, 텍스트 데이터의 경우 각 시간 스텝마다 한 문자를 처리하므로 input_features는 1이 될 수 있습니다."
   ]
  },
  {
   "cell_type": "code",
   "execution_count": 44,
   "id": "12733093-8642-4862-ad11-ee65ac1aa827",
   "metadata": {},
   "outputs": [],
   "source": [
    "batch_size = 1     # 데이터셋의 배치 크기. 한 번에 처리할 데이터 샘플의 수.\n",
    "seq_length = 4    # 시퀀스 길이. 각 데이터 샘플이 가질 시퀀스 길이 또는 시간 스텝의 수.\n",
    "input_features = 2 # 입력 특성의 수. 각 시간 스텝에서 사용되는 입력 특성의 수.\n"
   ]
  },
  {
   "cell_type": "code",
   "execution_count": 45,
   "id": "f246edf6-1b9d-4637-9828-f5b787b4d0bf",
   "metadata": {},
   "outputs": [
    {
     "data": {
      "text/plain": [
       "array([[[0.12862704, 0.66277564],\n",
       "        [0.66939973, 0.60765927],\n",
       "        [0.46550219, 0.72160088],\n",
       "        [0.40491958, 0.10630401]]])"
      ]
     },
     "execution_count": 45,
     "metadata": {},
     "output_type": "execute_result"
    }
   ],
   "source": [
    "# 위 차원에 따라 무작위 입력데이터를 생성하는 부분\n",
    "input_data = np.random.rand(batch_size, seq_length, input_features)\n",
    "input_data"
   ]
  },
  {
   "cell_type": "markdown",
   "id": "ce1be0d5-3b51-4447-b964-4dd8937d2245",
   "metadata": {},
   "source": [
    "## RNN Layere 생성"
   ]
  },
  {
   "cell_type": "code",
   "execution_count": 46,
   "id": "0604f881-2e6f-47d1-a0a1-c8dc5b31d043",
   "metadata": {},
   "outputs": [],
   "source": [
    "layer = SimpleRNN(units = 5, input_shape=(seq_length,input_features), return_sequences=True)"
   ]
  },
  {
   "cell_type": "markdown",
   "id": "18d76570-df0f-483e-a481-10eb3082e555",
   "metadata": {},
   "source": [
    "* SimpleRNN(units=5, input_shape=(seq_length, input_features), return_sequences=True)은 Keras에서 SimpleRNN 레이어를 생성하는 부분입니다.\n",
    "* SimpleRNN은 간단한 순환 신경망 레이어를 나타내며, 여기에서는 5개의 유닛(뉴런)을 가지는 SimpleRNN 레이어를 생성하고 있습니다.\n",
    "* input_shape=(seq_length, input_features)은 입력 데이터의 모양(shape)을 정의합니다. 이 경우, 입력 데이터의 shape는 (seq_length, input_features)로 설정되었습니다.\n",
    "* seq_length는 시퀀스의 길이를 나타냅니다. 각 데이터 샘플은 seq_length 개의 시간 스텝으로 구성되어 있습니다.\n",
    "* input_features는 각 시간 스텝에서의 입력 특성의 수를 나타냅니다. 각 시간 스텝에서 input_features 개의 입력 특성을 가집니다.\n",
    "* return_sequences=True는 SimpleRNN 레이어가 출력으로 시퀀스를 반환할 것임을 나타냅니다. 이 매개변수를 True로 설정하면 SimpleRNN 레이어의 각 시간 스텝에서 출력을 유지하고, 시퀀스 출력을 반환합니다. 만약 False로 설정하면 마지막 시간 스텝의 출력만 반환합니다."
   ]
  },
  {
   "cell_type": "code",
   "execution_count": 47,
   "id": "5c4946c7-43a4-466d-91c3-48bbdd4e85f8",
   "metadata": {},
   "outputs": [
    {
     "data": {
      "text/plain": [
       "<tf.Tensor: shape=(1, 4, 5), dtype=float32, numpy=\n",
       "array([[[-0.1078827 , -0.14120048,  0.01040216, -0.44169983,\n",
       "          0.1864555 ],\n",
       "        [-0.3509685 ,  0.00173718, -0.630617  ,  0.28010273,\n",
       "          0.6092122 ],\n",
       "        [-0.02572588,  0.14186656,  0.14196524,  0.10673206,\n",
       "         -0.22112776],\n",
       "        [-0.32924053, -0.29040655, -0.15698528,  0.14829578,\n",
       "          0.45933607]]], dtype=float32)>"
      ]
     },
     "execution_count": 47,
     "metadata": {},
     "output_type": "execute_result"
    }
   ],
   "source": [
    "layer(input_data)"
   ]
  },
  {
   "cell_type": "code",
   "execution_count": 48,
   "id": "0af4ad7d-102a-4335-a71d-cbc683243abc",
   "metadata": {},
   "outputs": [
    {
     "data": {
      "text/plain": [
       "<tf.Tensor: shape=(1, 5), dtype=float32, numpy=\n",
       "array([[-0.42984647,  0.1674155 ,  0.73785955, -0.79379654, -0.6060575 ]],\n",
       "      dtype=float32)>"
      ]
     },
     "execution_count": 48,
     "metadata": {},
     "output_type": "execute_result"
    }
   ],
   "source": [
    "layer = SimpleRNN(units = 5, input_shape=(seq_length,input_features), return_sequences=False)\n",
    "layer(input_data)"
   ]
  }
 ],
 "metadata": {
  "kernelspec": {
   "display_name": "Python 3 (ipykernel)",
   "language": "python",
   "name": "python3"
  },
  "language_info": {
   "codemirror_mode": {
    "name": "ipython",
    "version": 3
   },
   "file_extension": ".py",
   "mimetype": "text/x-python",
   "name": "python",
   "nbconvert_exporter": "python",
   "pygments_lexer": "ipython3",
   "version": "3.8.10"
  }
 },
 "nbformat": 4,
 "nbformat_minor": 5
}
