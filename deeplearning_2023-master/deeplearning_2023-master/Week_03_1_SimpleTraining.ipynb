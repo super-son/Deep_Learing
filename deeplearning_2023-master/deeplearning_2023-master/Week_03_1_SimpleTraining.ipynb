{
 "cells": [
  {
   "cell_type": "markdown",
   "id": "41b5b902-5090-43cb-81b9-f31f5a55940a",
   "metadata": {},
   "source": [
    "## 시나리오: 사인곡선을 딥러닝으로 그려보자"
   ]
  },
  {
   "cell_type": "code",
   "execution_count": 17,
   "id": "10648a43-668f-41f0-a448-934a1aa0ba35",
   "metadata": {},
   "outputs": [],
   "source": [
    "import numpy as np\n",
    "import tensorflow as tf\n",
    "from tensorflow.keras.models import Sequential\n",
    "from tensorflow.keras.layers import Dense\n",
    "from sklearn.model_selection import train_test_split\n",
    "import matplotlib.pyplot as plt"
   ]
  },
  {
   "cell_type": "markdown",
   "id": "3069bc38-77de-4300-a225-a12c288a7393",
   "metadata": {},
   "source": [
    "## 데이터 생성"
   ]
  },
  {
   "cell_type": "code",
   "execution_count": 18,
   "id": "24caace9-93aa-4a0b-aa86-dbae5cea4172",
   "metadata": {},
   "outputs": [],
   "source": [
    "# 랜덤한 사인 곡선 데이터 생성\n",
    "np.random.seed(0)\n",
    "x = np.sort(np.random.rand(1000) * 2 * np.pi)\n",
    "y = np.sin(x) + 0.1 * np.random.randn(1000)\n"
   ]
  },
  {
   "cell_type": "markdown",
   "id": "a1ef0138-2231-4970-ae3f-06fb4b4dbcc2",
   "metadata": {},
   "source": [
    "## 훈련데이터와 검증데이터로 나누기"
   ]
  },
  {
   "cell_type": "code",
   "execution_count": 19,
   "id": "83300179-e28f-4513-8e5e-5b7a16125612",
   "metadata": {},
   "outputs": [],
   "source": [
    "# 데이터를 훈련 세트와 테스트 세트로 나누기\n",
    "x_train, x_test, y_train, y_test = train_test_split(x,y,test_size=0.2,shuffle=True)"
   ]
  },
  {
   "cell_type": "code",
   "execution_count": 16,
   "id": "b1606947-38e6-476e-9017-bd81045f5556",
   "metadata": {},
   "outputs": [
    {
     "data": {
      "text/plain": [
       "<matplotlib.legend.Legend at 0x7f27a44a0be0>"
      ]
     },
     "execution_count": 16,
     "metadata": {},
     "output_type": "execute_result"
    },
    {
     "data": {
      "image/png": "[encoded data removed]",
      "text/plain": [
       "<Figure size 432x288 with 1 Axes>"
      ]
     },
     "metadata": {
      "needs_background": "light"
     },
     "output_type": "display_data"
    }
   ],
   "source": [
    "# 그래프로 확인\n",
    "plt.scatter(x_train,y_train,label='train')\n",
    "plt.scatter(x_test,y_test,label='test')\n",
    "plt.legend()"
   ]
  },
  {
   "cell_type": "markdown",
   "id": "842f5a46-bd47-4944-a595-9588e32b1017",
   "metadata": {
    "tags": []
   },
   "source": [
    "## 모델 컴파일\n",
    "keras에서는 Sequential로 생성된 모델을 compile하여 학습할 준비를 마친다.  \n",
    "compile에서는 딥러닝 아키텍처를 어떤 방식으로 어떤 손실함수를 통해 학습할지 지정하는 역할을 한다."
   ]
  },
  {
   "cell_type": "markdown",
   "id": "2ccc27bf-c949-4896-bfc1-a0f3ec1a5b9a",
   "metadata": {},
   "source": [
    "* Optimizer (옵티마이저):\n",
    "Optimizer는 신경망 모델을 학습시킬 때 가중치와 편향을 업데이트하는 알고리즘을 의미합니다.  \n",
    "학습 중에 가중치와 편향을 조정하여 손실 함수를 최소화하도록 모델을 조정하는 역할을 합니다.  \n",
    "대표적인 옵티마이저로는 SGD (Stochastic Gradient Descent), Adam, RMSprop 등이 있습니다.  \n",
    "각각의 옵티마이저는 모델의 학습 속도, 수렴 속도, 안정성 등을 조절하는 다양한 매개변수를 가지고 있습니다.  \n",
    "\n",
    "* Loss Function (손실 함수):\n",
    "Loss function은 모델의 예측값과 실제값 사이의 차이를 측정하는 함수입니다.  \n",
    "학습 중에 손실 함수를 최소화하려고 모델의 가중치와 편향을 조정합니다.  \n",
    "회귀 문제의 경우에는 평균 제곱 오차(Mean Squared Error, MSE)가 일반적으로 사용되며, 분류 문제의 경우에는 교차 엔트로피(Cross Entropy) 등이 사용됩니다.  \n",
    "모델의 예측이 실제 값과 얼마나 일치하는지를 나타내는 척도입니다.  "
   ]
  },
  {
   "cell_type": "code",
   "execution_count": 20,
   "id": "ed43fde1-2669-4433-acf0-52c82c480bf1",
   "metadata": {},
   "outputs": [],
   "source": [
    "# Sequential 모델 생성\n",
    "model = Sequential()\n",
    "\n",
    "# Dense 레이어 추가\n",
    "model.add(Dense(units=64, activation='relu', input_dim=1))\n",
    "model.add(Dense(units=32, activation='relu'))\n",
    "model.add(Dense(units=1, activation='linear'))\n",
    "\n",
    "# 모델 컴파일\n",
    "model.compile(optimizer='adam', loss='mean_squared_error')"
   ]
  },
  {
   "cell_type": "markdown",
   "id": "af167a3f-709b-4120-b245-449fefc783ac",
   "metadata": {},
   "source": [
    "## 모델 학습"
   ]
  },
  {
   "cell_type": "markdown",
   "id": "b785f2d7-c083-405d-bd4a-d804e1e2c2c9",
   "metadata": {},
   "source": [
    "fit() 메서드는 케라스 모델을 학습시키는 과정을 실행하는 함수입니다.  \n",
    "모델에 입력 데이터와 실제 결과 데이터를 제공하여 가중치와 편향을 조정하고 모델을 학습시킵니다. 간단한 설명을 제공하겠습니다.\n",
    "  \n",
    "* X_train: 학습 데이터의 입력 특성을 나타내는 배열.\n",
    "* y_train: 학습 데이터의 실제 결과 값을 나타내는 배열.\n",
    "* epochs: 에포크 수, 전체 학습 데이터를 몇 번 반복하여 학습할지를 나타냄.\n",
    "* batch_size: 한 번의 학습 단계에서 사용할 데이터의 개수.\n",
    "* validation_data: 검증 데이터의 입력 특성과 실제 결과 값. 모델의 학습 과정에서 검증 데이터의 손실도가 기록됨."
   ]
  },
  {
   "cell_type": "code",
   "execution_count": 21,
   "id": "47490c3a-af0d-4549-9b3a-9a8de5b82830",
   "metadata": {
    "tags": []
   },
   "outputs": [
    {
     "name": "stdout",
     "output_type": "stream",
     "text": [
      "Epoch 1/100\n",
      "25/25 [==============================] - 0s 10ms/step - loss: 0.5146 - val_loss: 0.4362\n",
      "Epoch 2/100\n",
      "25/25 [==============================] - 0s 6ms/step - loss: 0.3802 - val_loss: 0.3510\n",
      "Epoch 3/100\n",
      "25/25 [==============================] - 0s 10ms/step - loss: 0.3380 - val_loss: 0.3146\n",
      "Epoch 4/100\n",
      "25/25 [==============================] - 0s 7ms/step - loss: 0.2998 - val_loss: 0.2778\n",
      "Epoch 5/100\n",
      "25/25 [==============================] - 0s 6ms/step - loss: 0.2664 - val_loss: 0.2421\n",
      "Epoch 6/100\n",
      "25/25 [==============================] - 0s 7ms/step - loss: 0.2323 - val_loss: 0.2098\n",
      "Epoch 7/100\n",
      "25/25 [==============================] - 0s 5ms/step - loss: 0.2048 - val_loss: 0.1806\n",
      "Epoch 8/100\n",
      "25/25 [==============================] - 0s 5ms/step - loss: 0.1891 - val_loss: 0.1647\n",
      "Epoch 9/100\n",
      "25/25 [==============================] - 0s 6ms/step - loss: 0.1737 - val_loss: 0.1554\n",
      "Epoch 10/100\n",
      "25/25 [==============================] - 0s 5ms/step - loss: 0.1716 - val_loss: 0.1493\n",
      "Epoch 11/100\n",
      "25/25 [==============================] - 0s 12ms/step - loss: 0.1639 - val_loss: 0.1532\n",
      "Epoch 12/100\n",
      "25/25 [==============================] - 0s 19ms/step - loss: 0.1614 - val_loss: 0.1686\n",
      "Epoch 13/100\n",
      "25/25 [==============================] - 0s 16ms/step - loss: 0.1639 - val_loss: 0.1592\n",
      "Epoch 14/100\n",
      "25/25 [==============================] - 0s 7ms/step - loss: 0.1775 - val_loss: 0.1427\n",
      "Epoch 15/100\n",
      "25/25 [==============================] - 0s 6ms/step - loss: 0.1592 - val_loss: 0.1629\n",
      "Epoch 16/100\n",
      "25/25 [==============================] - 0s 6ms/step - loss: 0.1638 - val_loss: 0.1576\n",
      "Epoch 17/100\n",
      "25/25 [==============================] - 0s 6ms/step - loss: 0.1629 - val_loss: 0.1499\n",
      "Epoch 18/100\n",
      "25/25 [==============================] - 0s 5ms/step - loss: 0.1583 - val_loss: 0.1408\n",
      "Epoch 19/100\n",
      "25/25 [==============================] - 0s 6ms/step - loss: 0.1567 - val_loss: 0.1429\n",
      "Epoch 20/100\n",
      "25/25 [==============================] - 0s 10ms/step - loss: 0.1570 - val_loss: 0.1511\n",
      "Epoch 21/100\n",
      "25/25 [==============================] - 0s 11ms/step - loss: 0.1614 - val_loss: 0.1352\n",
      "Epoch 22/100\n",
      "25/25 [==============================] - 0s 9ms/step - loss: 0.1609 - val_loss: 0.1371\n",
      "Epoch 23/100\n",
      "25/25 [==============================] - 0s 6ms/step - loss: 0.1570 - val_loss: 0.1365\n",
      "Epoch 24/100\n",
      "25/25 [==============================] - 0s 6ms/step - loss: 0.1579 - val_loss: 0.1482\n",
      "Epoch 25/100\n",
      "25/25 [==============================] - 0s 11ms/step - loss: 0.1563 - val_loss: 0.1362\n",
      "Epoch 26/100\n",
      "25/25 [==============================] - 0s 9ms/step - loss: 0.1588 - val_loss: 0.1505\n",
      "Epoch 27/100\n",
      "25/25 [==============================] - 0s 6ms/step - loss: 0.1586 - val_loss: 0.1516\n",
      "Epoch 28/100\n",
      "25/25 [==============================] - 0s 13ms/step - loss: 0.1560 - val_loss: 0.1408\n",
      "Epoch 29/100\n",
      "25/25 [==============================] - 0s 12ms/step - loss: 0.1584 - val_loss: 0.1518\n",
      "Epoch 30/100\n",
      "25/25 [==============================] - 0s 7ms/step - loss: 0.1579 - val_loss: 0.1435\n",
      "Epoch 31/100\n",
      "25/25 [==============================] - 0s 6ms/step - loss: 0.1554 - val_loss: 0.1454\n",
      "Epoch 32/100\n",
      "25/25 [==============================] - 0s 6ms/step - loss: 0.1618 - val_loss: 0.1342\n",
      "Epoch 33/100\n",
      "25/25 [==============================] - 0s 6ms/step - loss: 0.1563 - val_loss: 0.1417\n",
      "Epoch 34/100\n",
      "25/25 [==============================] - 0s 6ms/step - loss: 0.1573 - val_loss: 0.1376\n",
      "Epoch 35/100\n",
      "25/25 [==============================] - 0s 6ms/step - loss: 0.1608 - val_loss: 0.1416\n",
      "Epoch 36/100\n",
      "25/25 [==============================] - 0s 10ms/step - loss: 0.1561 - val_loss: 0.1370\n",
      "Epoch 37/100\n",
      "25/25 [==============================] - 0s 10ms/step - loss: 0.1675 - val_loss: 0.1359\n",
      "Epoch 38/100\n",
      "25/25 [==============================] - 0s 15ms/step - loss: 0.1604 - val_loss: 0.1391\n",
      "Epoch 39/100\n",
      "25/25 [==============================] - 0s 9ms/step - loss: 0.1563 - val_loss: 0.1512\n",
      "Epoch 40/100\n",
      "25/25 [==============================] - 0s 6ms/step - loss: 0.1558 - val_loss: 0.1351\n",
      "Epoch 41/100\n",
      "25/25 [==============================] - 0s 6ms/step - loss: 0.1583 - val_loss: 0.1409\n",
      "Epoch 42/100\n",
      "25/25 [==============================] - 0s 6ms/step - loss: 0.1571 - val_loss: 0.1343\n",
      "Epoch 43/100\n",
      "25/25 [==============================] - 0s 5ms/step - loss: 0.1554 - val_loss: 0.1514\n",
      "Epoch 44/100\n",
      "25/25 [==============================] - 0s 5ms/step - loss: 0.1565 - val_loss: 0.1620\n",
      "Epoch 45/100\n",
      "25/25 [==============================] - 0s 11ms/step - loss: 0.1574 - val_loss: 0.1788\n",
      "Epoch 46/100\n",
      "25/25 [==============================] - 0s 9ms/step - loss: 0.1655 - val_loss: 0.1450\n",
      "Epoch 47/100\n",
      "25/25 [==============================] - 0s 7ms/step - loss: 0.1556 - val_loss: 0.1364\n",
      "Epoch 48/100\n",
      "25/25 [==============================] - 0s 6ms/step - loss: 0.1547 - val_loss: 0.1475\n",
      "Epoch 49/100\n",
      "25/25 [==============================] - 0s 6ms/step - loss: 0.1566 - val_loss: 0.1320\n",
      "Epoch 50/100\n",
      "25/25 [==============================] - 0s 6ms/step - loss: 0.1556 - val_loss: 0.1355\n",
      "Epoch 51/100\n",
      "25/25 [==============================] - 0s 8ms/step - loss: 0.1524 - val_loss: 0.1365\n",
      "Epoch 52/100\n",
      "25/25 [==============================] - 0s 10ms/step - loss: 0.1547 - val_loss: 0.1538\n",
      "Epoch 53/100\n",
      "25/25 [==============================] - 0s 18ms/step - loss: 0.1568 - val_loss: 0.1277\n",
      "Epoch 54/100\n",
      "25/25 [==============================] - 0s 8ms/step - loss: 0.1465 - val_loss: 0.1213\n",
      "Epoch 55/100\n",
      "25/25 [==============================] - 0s 8ms/step - loss: 0.1382 - val_loss: 0.1157\n",
      "Epoch 56/100\n",
      "25/25 [==============================] - 0s 6ms/step - loss: 0.1340 - val_loss: 0.1276\n",
      "Epoch 57/100\n",
      "25/25 [==============================] - 0s 6ms/step - loss: 0.1288 - val_loss: 0.1098\n",
      "Epoch 58/100\n",
      "25/25 [==============================] - 0s 6ms/step - loss: 0.1280 - val_loss: 0.1075\n",
      "Epoch 59/100\n",
      "25/25 [==============================] - 0s 5ms/step - loss: 0.1176 - val_loss: 0.0993\n",
      "Epoch 60/100\n",
      "25/25 [==============================] - 0s 6ms/step - loss: 0.1131 - val_loss: 0.0960\n",
      "Epoch 61/100\n",
      "25/25 [==============================] - 0s 6ms/step - loss: 0.1133 - val_loss: 0.1060\n",
      "Epoch 62/100\n",
      "25/25 [==============================] - 0s 10ms/step - loss: 0.1068 - val_loss: 0.0922\n",
      "Epoch 63/100\n",
      "25/25 [==============================] - 0s 11ms/step - loss: 0.1022 - val_loss: 0.0871\n",
      "Epoch 64/100\n",
      "25/25 [==============================] - 0s 9ms/step - loss: 0.1054 - val_loss: 0.0854\n",
      "Epoch 65/100\n",
      "25/25 [==============================] - 0s 9ms/step - loss: 0.0961 - val_loss: 0.0939\n",
      "Epoch 66/100\n",
      "25/25 [==============================] - 0s 5ms/step - loss: 0.0932 - val_loss: 0.0780\n",
      "Epoch 67/100\n",
      "25/25 [==============================] - 0s 7ms/step - loss: 0.0916 - val_loss: 0.0766\n",
      "Epoch 68/100\n",
      "25/25 [==============================] - 0s 7ms/step - loss: 0.0886 - val_loss: 0.0743\n",
      "Epoch 69/100\n",
      "25/25 [==============================] - 0s 5ms/step - loss: 0.0859 - val_loss: 0.0795\n",
      "Epoch 70/100\n",
      "25/25 [==============================] - 0s 5ms/step - loss: 0.0841 - val_loss: 0.0776\n",
      "Epoch 71/100\n",
      "25/25 [==============================] - 0s 8ms/step - loss: 0.0807 - val_loss: 0.0699\n",
      "Epoch 72/100\n",
      "25/25 [==============================] - 0s 7ms/step - loss: 0.0798 - val_loss: 0.0683\n",
      "Epoch 73/100\n",
      "25/25 [==============================] - 0s 7ms/step - loss: 0.0781 - val_loss: 0.0672\n",
      "Epoch 74/100\n",
      "25/25 [==============================] - 0s 5ms/step - loss: 0.0759 - val_loss: 0.0639\n",
      "Epoch 75/100\n",
      "25/25 [==============================] - 0s 6ms/step - loss: 0.0739 - val_loss: 0.0639\n",
      "Epoch 76/100\n",
      "25/25 [==============================] - 0s 6ms/step - loss: 0.0714 - val_loss: 0.0743\n",
      "Epoch 77/100\n",
      "25/25 [==============================] - 0s 6ms/step - loss: 0.0711 - val_loss: 0.0624\n",
      "Epoch 78/100\n",
      "25/25 [==============================] - 0s 6ms/step - loss: 0.0683 - val_loss: 0.0610\n",
      "Epoch 79/100\n",
      "25/25 [==============================] - 0s 6ms/step - loss: 0.0685 - val_loss: 0.0611\n",
      "Epoch 80/100\n",
      "25/25 [==============================] - 0s 15ms/step - loss: 0.0653 - val_loss: 0.0580\n",
      "Epoch 81/100\n",
      "25/25 [==============================] - 0s 12ms/step - loss: 0.0627 - val_loss: 0.0558\n",
      "Epoch 82/100\n",
      "25/25 [==============================] - 0s 12ms/step - loss: 0.0611 - val_loss: 0.0561\n",
      "Epoch 83/100\n",
      "25/25 [==============================] - 0s 7ms/step - loss: 0.0628 - val_loss: 0.0512\n",
      "Epoch 84/100\n",
      "25/25 [==============================] - 0s 6ms/step - loss: 0.0585 - val_loss: 0.0491\n",
      "Epoch 85/100\n",
      "25/25 [==============================] - 0s 6ms/step - loss: 0.0563 - val_loss: 0.0512\n",
      "Epoch 86/100\n",
      "25/25 [==============================] - 0s 5ms/step - loss: 0.0568 - val_loss: 0.0477\n",
      "Epoch 87/100\n",
      "25/25 [==============================] - 0s 5ms/step - loss: 0.0535 - val_loss: 0.0494\n",
      "Epoch 88/100\n",
      "25/25 [==============================] - 0s 7ms/step - loss: 0.0542 - val_loss: 0.0491\n",
      "Epoch 89/100\n",
      "25/25 [==============================] - 0s 8ms/step - loss: 0.0504 - val_loss: 0.0443\n",
      "Epoch 90/100\n",
      "25/25 [==============================] - 0s 11ms/step - loss: 0.0497 - val_loss: 0.0445\n",
      "Epoch 91/100\n",
      "25/25 [==============================] - 0s 9ms/step - loss: 0.0476 - val_loss: 0.0439\n",
      "Epoch 92/100\n",
      "25/25 [==============================] - 0s 6ms/step - loss: 0.0457 - val_loss: 0.0420\n",
      "Epoch 93/100\n",
      "25/25 [==============================] - 0s 6ms/step - loss: 0.0444 - val_loss: 0.0383\n",
      "Epoch 94/100\n",
      "25/25 [==============================] - 0s 6ms/step - loss: 0.0438 - val_loss: 0.0389\n",
      "Epoch 95/100\n",
      "25/25 [==============================] - 0s 6ms/step - loss: 0.0414 - val_loss: 0.0372\n",
      "Epoch 96/100\n",
      "25/25 [==============================] - 0s 6ms/step - loss: 0.0402 - val_loss: 0.0364\n",
      "Epoch 97/100\n",
      "25/25 [==============================] - 0s 10ms/step - loss: 0.0385 - val_loss: 0.0339\n",
      "Epoch 98/100\n",
      "25/25 [==============================] - 0s 7ms/step - loss: 0.0373 - val_loss: 0.0341\n",
      "Epoch 99/100\n",
      "25/25 [==============================] - 0s 8ms/step - loss: 0.0366 - val_loss: 0.0318\n",
      "Epoch 100/100\n",
      "25/25 [==============================] - 0s 7ms/step - loss: 0.0342 - val_loss: 0.0305\n"
     ]
    }
   ],
   "source": [
    "# 모델 학습\n",
    "history = model.fit(x_train, y_train, epochs=100, batch_size=32, validation_data=(x_test, y_test), verbose=1)"
   ]
  },
  {
   "cell_type": "markdown",
   "id": "30c2ebf8-cb6e-4f22-a631-23d13bc8d36f",
   "metadata": {},
   "source": [
    "## 러닝커브 확인"
   ]
  },
  {
   "cell_type": "code",
   "execution_count": 22,
   "id": "ce3073a3-3d12-4ae6-91ae-348322ec4893",
   "metadata": {},
   "outputs": [
    {
     "data": {
      "image/png": "[encoded data removed]",
      "text/plain": [
       "<Figure size 720x432 with 1 Axes>"
      ]
     },
     "metadata": {
      "needs_background": "light"
     },
     "output_type": "display_data"
    }
   ],
   "source": [
    "# 학습 결과 시각화\n",
    "plt.figure(figsize=(10, 6))\n",
    "plt.plot(history.history['loss'], label='Train Loss')\n",
    "plt.plot(history.history['val_loss'], label='Validation Loss')\n",
    "plt.xlabel('Epoch')\n",
    "plt.ylabel('Loss')\n",
    "plt.title('Training and Validation Loss')\n",
    "plt.legend()\n",
    "plt.show()\n"
   ]
  }
 ],
 "metadata": {
  "kernelspec": {
   "display_name": "Python 3 (ipykernel)",
   "language": "python",
   "name": "python3"
  },
  "language_info": {
   "codemirror_mode": {
    "name": "ipython",
    "version": 3
   },
   "file_extension": ".py",
   "mimetype": "text/x-python",
   "name": "python",
   "nbconvert_exporter": "python",
   "pygments_lexer": "ipython3",
   "version": "3.8.10"
  }
 },
 "nbformat": 4,
 "nbformat_minor": 5
}
