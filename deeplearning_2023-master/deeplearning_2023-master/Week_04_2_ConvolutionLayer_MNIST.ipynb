{
 "cells": [
  {
   "cell_type": "code",
   "execution_count": 23,
   "id": "e218bc8f-1f19-4568-abce-4980e7b3cbf4",
   "metadata": {},
   "outputs": [],
   "source": [
    "import tensorflow as tf\n",
    "from tensorflow.keras.datasets import mnist\n",
    "from tensorflow.keras.layers import Conv2D, MaxPooling2D, Flatten"
   ]
  },
  {
   "cell_type": "markdown",
   "id": "534cb3d4-f13e-4d6e-92ec-28556a2d2cad",
   "metadata": {},
   "source": [
    "## 데이터셋 불러오기"
   ]
  },
  {
   "cell_type": "markdown",
   "id": "8481b413-3c4b-4fa5-88ba-211e34d45639",
   "metadata": {},
   "source": [
    "* mnist.load_data() 함수는 MNIST 데이터셋을 로드하는 역할을 합니다. 이 함수를 호출하면 MNIST 데이터셋이 훈련(train) 및 테스트(test) 데이터로 분할되어 반환됩니다.\n",
    "\n",
    "* x_train은 훈련 데이터의 이미지 샘플을 포함하는 NumPy 배열입니다. 각 이미지는 28x28 픽셀 크기의 흑백 이미지입니다. 따라서 x_train은 (데이터 개수, 28, 28) 모양의 3차원 배열입니다.\n",
    "\n",
    "* y_train은 훈련 데이터의 레이블 또는 클래스 정보를 포함하는 NumPy 배열입니다. 각 레이블은 해당 이미지의 숫자를 나타냅니다. 예를 들어, 숫자 0의 이미지는 레이블 0에 해당합니다. y_train은 훈련 데이터에 대한 레이블이 모여 있는 1차원 배열입니다.\n",
    "\n",
    "* x_test와 y_test는 테스트 데이터의 이미지와 레이블을 나타내며, 훈련 데이터와 동일한 형식을 갖습니다."
   ]
  },
  {
   "cell_type": "code",
   "execution_count": 2,
   "id": "25b41d56-86de-4c1b-b8c0-5e215cb1f5ff",
   "metadata": {},
   "outputs": [],
   "source": [
    "(x_train, y_train), (x_test, y_test) = mnist.load_data()"
   ]
  },
  {
   "cell_type": "code",
   "execution_count": 12,
   "id": "c19c8733-56bb-45ed-932c-2c4da36057b8",
   "metadata": {},
   "outputs": [
    {
     "data": {
      "text/plain": [
       "(28, 28, 1)"
      ]
     },
     "execution_count": 12,
     "metadata": {},
     "output_type": "execute_result"
    }
   ],
   "source": [
    "image = x_train[0]\n",
    "image.shape"
   ]
  },
  {
   "cell_type": "markdown",
   "id": "9e2ef907-b898-4a14-9b8b-786df24691b1",
   "metadata": {},
   "source": [
    "## 데이터 확인"
   ]
  },
  {
   "cell_type": "code",
   "execution_count": 14,
   "id": "11e1d6ce-bb72-474e-8999-082a1fbaee1c",
   "metadata": {},
   "outputs": [
    {
     "data": {
      "text/plain": [
       "<matplotlib.image.AxesImage at 0x7f5a84069f40>"
      ]
     },
     "execution_count": 14,
     "metadata": {},
     "output_type": "execute_result"
    },
    {
     "data": {
      "image/png": "[encoded data removed]",
      "text/plain": [
       "<Figure size 432x288 with 1 Axes>"
      ]
     },
     "metadata": {
      "needs_background": "light"
     },
     "output_type": "display_data"
    }
   ],
   "source": [
    "import matplotlib.pyplot as plt\n",
    "plt.imshow(image)"
   ]
  },
  {
   "cell_type": "markdown",
   "id": "d58d4dbd-346f-42b3-8038-513254a0c21e",
   "metadata": {},
   "source": [
    "## 데이터 형변환"
   ]
  },
  {
   "cell_type": "code",
   "execution_count": 15,
   "id": "29dd51b2-571b-4189-be4e-65eba0c7d593",
   "metadata": {},
   "outputs": [
    {
     "data": {
      "text/plain": [
       "(1, 28, 28, 1)"
      ]
     },
     "execution_count": 15,
     "metadata": {},
     "output_type": "execute_result"
    }
   ],
   "source": [
    "image = image.reshape(1,28,28,1)\n",
    "image.shape"
   ]
  },
  {
   "cell_type": "markdown",
   "id": "03f4c27c-6f5c-4cc2-ae81-a256c8a0e6bb",
   "metadata": {},
   "source": [
    "* 첫 번째 차원 (1): 이 배열은 배치(batch)로 처리되었음을 나타냅니다. 즉, 하나의 이미지만을 처리한다는 의미입니다.\n",
    "* 두 번째 차원 (28): 이미지의 높이(height)를 나타냅니다. 28픽셀입니다.\n",
    "* 세 번째 차원 (28): 이미지의 너비(width)를 나타냅니다. 28픽셀입니다.\n",
    "* 네 번째 차원 (1): 이미지의 채널 수를 나타냅니다. 이 경우, 흑백 이미지이므로 채널 수가 1입니다.\n",
    "따라서 이 형태의 배열은 하나의 흑백 이미지를 나타내며, CNN 모델에 입력으로 사용할 수 있습니다. 각 픽셀은 0에서 1 사이의 부동소수점 값으로 표현되어야 합니다."
   ]
  },
  {
   "cell_type": "markdown",
   "id": "057d2ec0-159e-4502-93f9-68d3d0e4fe8b",
   "metadata": {},
   "source": [
    "## Conv2D Layer"
   ]
  },
  {
   "cell_type": "code",
   "execution_count": 19,
   "id": "7789b13e-aaae-4369-b133-2239d69697e4",
   "metadata": {},
   "outputs": [],
   "source": [
    "conv_layer = Conv2D(filters=32,\n",
    "                    kernel_size=(3,3),\n",
    "                    activation='relu',\n",
    "                    input_shape=(28,28,1))\n"
   ]
  },
  {
   "cell_type": "markdown",
   "id": "6345cd04-1bb5-4e47-9f25-2e7b82de2263",
   "metadata": {},
   "source": [
    "* Conv2D(32, kernel_size=(3, 3), activation='relu', input_shape=(28, 28, 1)) 는 2차원 합성곱 레이어를 추가하는 부분입니다.\n",
    "* 32 는 이 레이어에서 생성할 필터(또는 커널)의 수를 나타냅니다. 이 필터들은 입력 이미지에서 특징을 감지합니다.\n",
    "* kernel_size=(3, 3) 는 각 필터의 크기를 정의합니다. 이 경우, 3x3 크기의 필터를 사용하여 이미지에서 작은 특징을 감지합니다.\n",
    "* activation='relu' 는 활성화 함수로 ReLU (Rectified Linear Unit) 함수를 사용한다는 것을 나타냅니다. ReLU는 음수 값을 0으로 만들고 양수 값을 그대로 유지하여 비선형성을 도입합니다.\n",
    "* input_shape=(28, 28, 1) 는 입력 이미지의 모양(shape)을 정의합니다. 이 경우, 28x28 크기의 이미지이며, 채널 수가 1인 흑백 이미지입니다."
   ]
  },
  {
   "cell_type": "code",
   "execution_count": 20,
   "id": "02ec4b41-4fd2-4b57-b3fc-003297765c6e",
   "metadata": {},
   "outputs": [
    {
     "data": {
      "text/plain": [
       "TensorShape([1, 26, 26, 32])"
      ]
     },
     "execution_count": 20,
     "metadata": {},
     "output_type": "execute_result"
    }
   ],
   "source": [
    "response = conv_layer(image)\n",
    "response.shape"
   ]
  },
  {
   "cell_type": "markdown",
   "id": "1cb945bd-9fce-44b6-9f0d-6743008e15eb",
   "metadata": {},
   "source": [
    "## Pooling Layer\n"
   ]
  },
  {
   "cell_type": "code",
   "execution_count": 22,
   "id": "bd2deb51-a90a-475a-8e04-5fa86b6e2739",
   "metadata": {},
   "outputs": [
    {
     "data": {
      "text/plain": [
       "TensorShape([1, 13, 13, 32])"
      ]
     },
     "execution_count": 22,
     "metadata": {},
     "output_type": "execute_result"
    }
   ],
   "source": [
    "pooling = MaxPooling2D(pool_size=(2,2))\n",
    "response = pooling(response)\n",
    "response.shape"
   ]
  },
  {
   "cell_type": "markdown",
   "id": "eac43127-b8ed-455b-a675-45efdca21f86",
   "metadata": {},
   "source": [
    "MaxPooling2D(pool_size=(2, 2)) 는 최대 풀링(Max Pooling) 레이어를 추가하는 부분입니다.\n",
    "* MaxPooling은 입력 이미지를 격자로 나누어 각 격자 영역에서 가장 큰 값을 선택하여 이미지의 크기를 줄입니다. 이는 공간적인 계층 구조를 학습하는 데 도움이 됩니다.\n",
    "* pool_size=(2, 2) 는 풀링 영역의 크기를 정의합니다. 이 경우, 2x2 크기의 영역에서 최대 값을 선택합니다."
   ]
  },
  {
   "cell_type": "markdown",
   "id": "5e57794e-66f0-441c-8efe-61af94512114",
   "metadata": {},
   "source": [
    "## Flatten Layer"
   ]
  },
  {
   "cell_type": "markdown",
   "id": "1a3a0d79-ad32-4650-aced-5d93a71fcaeb",
   "metadata": {},
   "source": [
    "위의 코드는 신경망 모델에서 사용되는 Flatten 연산을 수행하는 코드입니다. Flatten 연산은 입력 데이터의 차원을 변경하여 평평한 1차원 벡터로 변환합니다."
   ]
  },
  {
   "cell_type": "code",
   "execution_count": 25,
   "id": "be4b1b90-1310-417f-89af-e2022067567e",
   "metadata": {},
   "outputs": [],
   "source": [
    "flatten = Flatten()\n",
    "response = flatten(response)"
   ]
  },
  {
   "cell_type": "code",
   "execution_count": 26,
   "id": "90cb09d9-0cc5-4ba2-a2ba-24fa6f2ab3a4",
   "metadata": {},
   "outputs": [
    {
     "data": {
      "text/plain": [
       "TensorShape([1, 5408])"
      ]
     },
     "execution_count": 26,
     "metadata": {},
     "output_type": "execute_result"
    }
   ],
   "source": [
    "response.shape"
   ]
  }
 ],
 "metadata": {
  "kernelspec": {
   "display_name": "Python 3 (ipykernel)",
   "language": "python",
   "name": "python3"
  },
  "language_info": {
   "codemirror_mode": {
    "name": "ipython",
    "version": 3
   },
   "file_extension": ".py",
   "mimetype": "text/x-python",
   "name": "python",
   "nbconvert_exporter": "python",
   "pygments_lexer": "ipython3",
   "version": "3.8.10"
  }
 },
 "nbformat": 4,
 "nbformat_minor": 5
}
