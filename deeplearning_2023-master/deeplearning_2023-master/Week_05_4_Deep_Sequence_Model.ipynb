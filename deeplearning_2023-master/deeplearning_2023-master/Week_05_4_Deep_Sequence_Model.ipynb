{
 "cells": [
  {
   "cell_type": "markdown",
   "metadata": {
    "id": "6TaB_V1KqsF1"
   },
   "source": [
    "## Import Module"
   ]
  },
  {
   "cell_type": "code",
   "execution_count": 52,
   "metadata": {
    "id": "4RiIU81GquZ7"
   },
   "outputs": [],
   "source": [
    "import tensorflow as tf\n",
    "from tensorflow import keras\n",
    "\n",
    "import numpy as np\n",
    "import matplotlib.pyplot as plt"
   ]
  },
  {
   "cell_type": "markdown",
   "metadata": {
    "id": "WDHF4fhjrEjB"
   },
   "source": [
    "## IMDB dataset 불러오기"
   ]
  },
  {
   "cell_type": "code",
   "execution_count": 53,
   "metadata": {
    "id": "pf2uiUcfrIMR"
   },
   "outputs": [],
   "source": [
    "NUM_WORDS=10000 # 가장 많이 사용된 상위 10000개의 단어만 추출\n",
    "(train_x, train_y), (test_x, test_y) = keras.datasets.imdb.load_data(num_words=NUM_WORDS)"
   ]
  },
  {
   "cell_type": "code",
   "execution_count": 54,
   "metadata": {
    "colab": {
     "base_uri": "https://localhost:8080/"
    },
    "id": "gbFmyTXLrhds",
    "outputId": "faddd86d-8111-48f0-d1ab-0978d918246e"
   },
   "outputs": [
    {
     "data": {
      "text/plain": [
       "[1,\n",
       " 14,\n",
       " 22,\n",
       " 16,\n",
       " 43,\n",
       " 530,\n",
       " 973,\n",
       " 1622,\n",
       " 1385,\n",
       " 65,\n",
       " 458,\n",
       " 4468,\n",
       " 66,\n",
       " 3941,\n",
       " 4,\n",
       " 173,\n",
       " 36,\n",
       " 256,\n",
       " 5,\n",
       " 25,\n",
       " 100,\n",
       " 43,\n",
       " 838,\n",
       " 112,\n",
       " 50,\n",
       " 670,\n",
       " 2,\n",
       " 9,\n",
       " 35,\n",
       " 480,\n",
       " 284,\n",
       " 5,\n",
       " 150,\n",
       " 4,\n",
       " 172,\n",
       " 112,\n",
       " 167,\n",
       " 2,\n",
       " 336,\n",
       " 385,\n",
       " 39,\n",
       " 4,\n",
       " 172,\n",
       " 4536,\n",
       " 1111,\n",
       " 17,\n",
       " 546,\n",
       " 38,\n",
       " 13,\n",
       " 447,\n",
       " 4,\n",
       " 192,\n",
       " 50,\n",
       " 16,\n",
       " 6,\n",
       " 147,\n",
       " 2025,\n",
       " 19,\n",
       " 14,\n",
       " 22,\n",
       " 4,\n",
       " 1920,\n",
       " 4613,\n",
       " 469,\n",
       " 4,\n",
       " 22,\n",
       " 71,\n",
       " 87,\n",
       " 12,\n",
       " 16,\n",
       " 43,\n",
       " 530,\n",
       " 38,\n",
       " 76,\n",
       " 15,\n",
       " 13,\n",
       " 1247,\n",
       " 4,\n",
       " 22,\n",
       " 17,\n",
       " 515,\n",
       " 17,\n",
       " 12,\n",
       " 16,\n",
       " 626,\n",
       " 18,\n",
       " 2,\n",
       " 5,\n",
       " 62,\n",
       " 386,\n",
       " 12,\n",
       " 8,\n",
       " 316,\n",
       " 8,\n",
       " 106,\n",
       " 5,\n",
       " 4,\n",
       " 2223,\n",
       " 5244,\n",
       " 16,\n",
       " 480,\n",
       " 66,\n",
       " 3785,\n",
       " 33,\n",
       " 4,\n",
       " 130,\n",
       " 12,\n",
       " 16,\n",
       " 38,\n",
       " 619,\n",
       " 5,\n",
       " 25,\n",
       " 124,\n",
       " 51,\n",
       " 36,\n",
       " 135,\n",
       " 48,\n",
       " 25,\n",
       " 1415,\n",
       " 33,\n",
       " 6,\n",
       " 22,\n",
       " 12,\n",
       " 215,\n",
       " 28,\n",
       " 77,\n",
       " 52,\n",
       " 5,\n",
       " 14,\n",
       " 407,\n",
       " 16,\n",
       " 82,\n",
       " 2,\n",
       " 8,\n",
       " 4,\n",
       " 107,\n",
       " 117,\n",
       " 5952,\n",
       " 15,\n",
       " 256,\n",
       " 4,\n",
       " 2,\n",
       " 7,\n",
       " 3766,\n",
       " 5,\n",
       " 723,\n",
       " 36,\n",
       " 71,\n",
       " 43,\n",
       " 530,\n",
       " 476,\n",
       " 26,\n",
       " 400,\n",
       " 317,\n",
       " 46,\n",
       " 7,\n",
       " 4,\n",
       " 2,\n",
       " 1029,\n",
       " 13,\n",
       " 104,\n",
       " 88,\n",
       " 4,\n",
       " 381,\n",
       " 15,\n",
       " 297,\n",
       " 98,\n",
       " 32,\n",
       " 2071,\n",
       " 56,\n",
       " 26,\n",
       " 141,\n",
       " 6,\n",
       " 194,\n",
       " 7486,\n",
       " 18,\n",
       " 4,\n",
       " 226,\n",
       " 22,\n",
       " 21,\n",
       " 134,\n",
       " 476,\n",
       " 26,\n",
       " 480,\n",
       " 5,\n",
       " 144,\n",
       " 30,\n",
       " 5535,\n",
       " 18,\n",
       " 51,\n",
       " 36,\n",
       " 28,\n",
       " 224,\n",
       " 92,\n",
       " 25,\n",
       " 104,\n",
       " 4,\n",
       " 226,\n",
       " 65,\n",
       " 16,\n",
       " 38,\n",
       " 1334,\n",
       " 88,\n",
       " 12,\n",
       " 16,\n",
       " 283,\n",
       " 5,\n",
       " 16,\n",
       " 4472,\n",
       " 113,\n",
       " 103,\n",
       " 32,\n",
       " 15,\n",
       " 16,\n",
       " 5345,\n",
       " 19,\n",
       " 178,\n",
       " 32]"
      ]
     },
     "execution_count": 54,
     "metadata": {},
     "output_type": "execute_result"
    }
   ],
   "source": [
    "## 데이터 확인해보기\n",
    "train_x[0]"
   ]
  },
  {
   "cell_type": "markdown",
   "metadata": {
    "id": "C-oeyiFqr9BE"
   },
   "source": [
    "## 문장 decoder 만들기"
   ]
  },
  {
   "cell_type": "code",
   "execution_count": 55,
   "metadata": {
    "id": "fu_B-cNnr6NO"
   },
   "outputs": [],
   "source": [
    "INDEX_FROM=3\n",
    "word_to_id = keras.datasets.imdb.get_word_index() #단어 -> 숫자 딕셔너리"
   ]
  },
  {
   "cell_type": "markdown",
   "metadata": {
    "id": "pcF12CAttaB6"
   },
   "source": [
    "## 딕셔너리 키, 밸류 바꾸기"
   ]
  },
  {
   "cell_type": "code",
   "execution_count": 56,
   "metadata": {
    "colab": {
     "base_uri": "https://localhost:8080/"
    },
    "id": "6ID0bcQhsnyc",
    "outputId": "6dd9fe51-98f6-48b5-c1f8-3861cd2fdcd2"
   },
   "outputs": [
    {
     "data": {
      "text/plain": [
       "{1: 'a', 2: 'b', 3: 'c'}"
      ]
     },
     "execution_count": 56,
     "metadata": {},
     "output_type": "execute_result"
    }
   ],
   "source": [
    "k={'a':1,'b':2,'c':3}\n",
    "k.items()\n",
    "k2 = {}\n",
    "# for i,j in k.items():\n",
    "#     k2[j]=i\n",
    "k2 = {j:i for i,j in k.items()} # 리스트 컴프리헨션\n",
    "k2"
   ]
  },
  {
   "cell_type": "markdown",
   "metadata": {
    "id": "-5f4f-vruIHJ"
   },
   "source": [
    "## Word_to_id에 키값 추가"
   ]
  },
  {
   "cell_type": "code",
   "execution_count": 57,
   "metadata": {
    "id": "NADh5DoMsK1v"
   },
   "outputs": [],
   "source": [
    "INDEX_FROM = 3\n",
    "word_to_id = {k:(v+INDEX_FROM) for k,v in word_to_id.items()}\n",
    "word_to_id[\"<PAD>\"]=0\n",
    "word_to_id[\"<START>\"]=1\n",
    "word_to_id[\"<UNK>\"]=2\n",
    "word_to_id[\"<UNSUED>\"]=3"
   ]
  },
  {
   "cell_type": "markdown",
   "metadata": {
    "id": "qyBsbgB5uNAQ"
   },
   "source": [
    "## id_to_word 딕셔너리 만들기"
   ]
  },
  {
   "cell_type": "code",
   "execution_count": 58,
   "metadata": {
    "id": "nDzQBOCMuRSN"
   },
   "outputs": [],
   "source": [
    "id_to_word = {v:k for k,v in word_to_id.items()}"
   ]
  },
  {
   "cell_type": "markdown",
   "metadata": {
    "id": "A_6Gy_gUus7-"
   },
   "source": [
    "## 디코더 함수 만들기"
   ]
  },
  {
   "cell_type": "code",
   "execution_count": 59,
   "metadata": {
    "id": "uunuivDtudlg"
   },
   "outputs": [],
   "source": [
    "def decode(sequence):\n",
    "    print(' '.join(id_to_word[id] for id in sequence))"
   ]
  },
  {
   "cell_type": "code",
   "execution_count": 60,
   "metadata": {
    "colab": {
     "base_uri": "https://localhost:8080/"
    },
    "id": "q1_vhkgQuvsk",
    "outputId": "2990b5d6-6715-475f-8afb-d733233adf35"
   },
   "outputs": [
    {
     "name": "stdout",
     "output_type": "stream",
     "text": [
      "<START> please give this one a miss br br <UNK> <UNK> and the rest of the cast rendered terrible performances the show is flat flat flat br br i don't know how michael madison could have allowed this one on his plate he almost seemed to know this wasn't going to work out and his performance was quite <UNK> so all you madison fans give this a miss\n"
     ]
    }
   ],
   "source": [
    "decode(test_x[0])"
   ]
  },
  {
   "cell_type": "code",
   "execution_count": null,
   "metadata": {
    "colab": {
     "base_uri": "https://localhost:8080/"
    },
    "id": "h1AUyS5nu9pU",
    "outputId": "2f4b0d10-4436-4b98-da7f-9a787a5b61ff"
   },
   "outputs": [
    {
     "data": {
      "text/plain": [
       "0"
      ]
     },
     "execution_count": 25,
     "metadata": {},
     "output_type": "execute_result"
    }
   ],
   "source": [
    "test_y[0]"
   ]
  },
  {
   "cell_type": "markdown",
   "metadata": {
    "id": "qsPs758Hvi5c"
   },
   "source": [
    "## 데이터 전처리"
   ]
  },
  {
   "cell_type": "code",
   "execution_count": 61,
   "metadata": {
    "id": "fm8U2onxv3_X"
   },
   "outputs": [],
   "source": [
    "## 데이터 전처리\n",
    "## 길이 256개의 단어로 통일\n",
    "## 문장이 일찍 끝났을 경우 0값을 집어넣어 제로패딩\n",
    "train_x=keras.preprocessing.sequence.pad_sequences(train_x, value=0, padding='post', maxlen=256)\n",
    "test_x=keras.preprocessing.sequence.pad_sequences(test_x, value=0, padding='post', maxlen=256)"
   ]
  },
  {
   "cell_type": "markdown",
   "metadata": {
    "id": "DVTfkVDdw6IV"
   },
   "source": [
    "## Fully Connected Neural NEtwork로 문장분류하기"
   ]
  },
  {
   "cell_type": "code",
   "execution_count": null,
   "metadata": {
    "colab": {
     "base_uri": "https://localhost:8080/"
    },
    "id": "X5znnhsPw0Q0",
    "outputId": "19fbf2c8-7eb8-4d4a-d9ef-1b421d2695f4"
   },
   "outputs": [
    {
     "name": "stdout",
     "output_type": "stream",
     "text": [
      "Model: \"sequential\"\n",
      "_________________________________________________________________\n",
      " Layer (type)                Output Shape              Param #   \n",
      "=================================================================\n",
      " embedding (Embedding)       (None, 256, 2)            20000     \n",
      "                                                                 \n",
      " flatten (Flatten)           (None, 512)               0         \n",
      "                                                                 \n",
      " dropout (Dropout)           (None, 512)               0         \n",
      "                                                                 \n",
      " dense (Dense)               (None, 5)                 2565      \n",
      "                                                                 \n",
      " dense_1 (Dense)             (None, 1)                 6         \n",
      "                                                                 \n",
      "=================================================================\n",
      "Total params: 22,571\n",
      "Trainable params: 22,571\n",
      "Non-trainable params: 0\n",
      "_________________________________________________________________\n"
     ]
    }
   ],
   "source": [
    "model = keras.Sequential([\n",
    "                        keras.layers.Embedding(input_dim=NUM_WORDS, output_dim=2,input_length=256),\n",
    "                        keras.layers.Flatten(), #입력노드에 넣기위해 다 펼치기\n",
    "                        keras.layers.Dropout(0.5),\n",
    "                        keras.layers.Dense(5, activation='relu'),\n",
    "                        keras.layers.Dense(1, activation='sigmoid')\n",
    "])\n",
    "\n",
    "model.compile(optimizer='adam',\n",
    "              loss='binary_crossentropy',\n",
    "              metrics=['accuracy'])\n",
    "model.summary()"
   ]
  },
  {
   "cell_type": "code",
   "execution_count": null,
   "metadata": {
    "colab": {
     "base_uri": "https://localhost:8080/"
    },
    "id": "cKOX-O2fyfEt",
    "outputId": "80cf150b-a9df-43e0-aeec-4be0a3bc5168"
   },
   "outputs": [
    {
     "name": "stdout",
     "output_type": "stream",
     "text": [
      "Epoch 1/100\n",
      "250/250 [==============================] - 5s 9ms/step - loss: 0.6921 - accuracy: 0.5224 - val_loss: 0.6884 - val_accuracy: 0.5725\n",
      "Epoch 2/100\n",
      "250/250 [==============================] - 2s 8ms/step - loss: 0.6008 - accuracy: 0.6981 - val_loss: 0.4468 - val_accuracy: 0.8230\n",
      "Epoch 3/100\n",
      "250/250 [==============================] - 2s 8ms/step - loss: 0.3843 - accuracy: 0.8374 - val_loss: 0.3354 - val_accuracy: 0.8661\n",
      "Epoch 4/100\n",
      "250/250 [==============================] - 2s 8ms/step - loss: 0.3187 - accuracy: 0.8651 - val_loss: 0.3082 - val_accuracy: 0.8741\n",
      "Epoch 5/100\n",
      "250/250 [==============================] - 2s 8ms/step - loss: 0.2910 - accuracy: 0.8801 - val_loss: 0.2961 - val_accuracy: 0.8791\n",
      "Epoch 6/100\n",
      "250/250 [==============================] - 2s 8ms/step - loss: 0.2717 - accuracy: 0.8865 - val_loss: 0.2918 - val_accuracy: 0.8793\n",
      "Epoch 7/100\n",
      "250/250 [==============================] - 2s 8ms/step - loss: 0.2575 - accuracy: 0.8954 - val_loss: 0.2891 - val_accuracy: 0.8799\n",
      "Epoch 8/100\n",
      "250/250 [==============================] - 2s 8ms/step - loss: 0.2409 - accuracy: 0.9022 - val_loss: 0.2911 - val_accuracy: 0.8770\n",
      "Epoch 9/100\n",
      "250/250 [==============================] - 2s 8ms/step - loss: 0.2338 - accuracy: 0.9053 - val_loss: 0.2946 - val_accuracy: 0.8765\n",
      "Epoch 10/100\n",
      "250/250 [==============================] - 2s 8ms/step - loss: 0.2221 - accuracy: 0.9109 - val_loss: 0.2955 - val_accuracy: 0.8760\n",
      "Epoch 11/100\n",
      "250/250 [==============================] - 2s 7ms/step - loss: 0.2109 - accuracy: 0.9150 - val_loss: 0.2994 - val_accuracy: 0.8744\n"
     ]
    }
   ],
   "source": [
    "early_stop = keras.callbacks.EarlyStopping(monitor='val_loss', patience=4)\n",
    "history = model.fit(train_x,train_y,\n",
    "                    epochs=100,\n",
    "                    batch_size=100,\n",
    "                    validation_data=(test_x,test_y),\n",
    "                    callbacks=early_stop)"
   ]
  },
  {
   "cell_type": "markdown",
   "metadata": {
    "id": "I0fTHO8izTa-"
   },
   "source": [
    "## 임베딩 레이어 살펴보기"
   ]
  },
  {
   "cell_type": "code",
   "execution_count": null,
   "metadata": {
    "colab": {
     "base_uri": "https://localhost:8080/"
    },
    "id": "FjjKl0IGzarZ",
    "outputId": "c503328e-b088-4faf-ca58-0f927f7d6d33"
   },
   "outputs": [
    {
     "data": {
      "text/plain": [
       "<keras.layers.core.flatten.Flatten at 0x7f7c0a5e4cd0>"
      ]
     },
     "execution_count": 36,
     "metadata": {},
     "output_type": "execute_result"
    }
   ],
   "source": [
    "model.layers[1]"
   ]
  },
  {
   "cell_type": "code",
   "execution_count": null,
   "metadata": {
    "id": "szxUaVKqzVQs"
   },
   "outputs": [],
   "source": [
    "## 학습된 임베딩 레이어만 뽑아내기\n",
    "embed = keras.backend.function(\n",
    "    [model.layers[0].input],\n",
    "    [model.layers[1].output]\n",
    ")"
   ]
  },
  {
   "cell_type": "code",
   "execution_count": null,
   "metadata": {
    "colab": {
     "base_uri": "https://localhost:8080/"
    },
    "id": "Yffj-7VOzm-A",
    "outputId": "9e7a3c09-15e6-4661-d0f2-ed120e1f1806"
   },
   "outputs": [
    {
     "data": {
      "text/plain": [
       "(256, 2)"
      ]
     },
     "execution_count": 40,
     "metadata": {},
     "output_type": "execute_result"
    }
   ],
   "source": [
    "embed(test_x[0])[0].shape"
   ]
  },
  {
   "cell_type": "markdown",
   "metadata": {
    "id": "pseZRqwozzxA"
   },
   "source": [
    "## 시각화"
   ]
  },
  {
   "cell_type": "code",
   "execution_count": null,
   "metadata": {
    "colab": {
     "base_uri": "https://localhost:8080/",
     "height": 287
    },
    "id": "zoHgI4uIz1RT",
    "outputId": "449d74ed-01cf-49fc-db45-7524b88c87c3"
   },
   "outputs": [
    {
     "data": {
      "text/plain": [
       "<matplotlib.collections.PathCollection at 0x7f7c03828a10>"
      ]
     },
     "execution_count": 42,
     "metadata": {},
     "output_type": "execute_result"
    },
    {
     "data": {
      "image/png": "[encoded data removed]",
      "text/plain": [
       "<Figure size 432x288 with 1 Axes>"
      ]
     },
     "metadata": {
      "needs_background": "light"
     },
     "output_type": "display_data"
    }
   ],
   "source": [
    "temp = embed(test_x[0])[0]\n",
    "plt.scatter(temp[:,0],temp[:,1])"
   ]
  },
  {
   "cell_type": "markdown",
   "metadata": {
    "id": "O_5qHw0x0HXL"
   },
   "source": [
    "## 긍정, 부정 단어들을 임베딩 벡터로 시각화"
   ]
  },
  {
   "cell_type": "code",
   "execution_count": null,
   "metadata": {
    "colab": {
     "base_uri": "https://localhost:8080/"
    },
    "id": "MRypDXkA0LbX",
    "outputId": "a308ff85-80b5-4de5-a5f5-5571f4d59921"
   },
   "outputs": [
    {
     "data": {
      "text/plain": [
       "[87, 530, 595, 78, 777, 20, 3272, 2777, 389]"
      ]
     },
     "execution_count": 43,
     "metadata": {},
     "output_type": "execute_result"
    }
   ],
   "source": [
    "keywords = ['great', 'brilliant','crap','bad', 'fantastic', 'movie', 'seagal','suck','wonderful']\n",
    "ids=[word_to_id[word] for word in keywords]\n",
    "ids\n"
   ]
  },
  {
   "cell_type": "code",
   "execution_count": null,
   "metadata": {
    "colab": {
     "base_uri": "https://localhost:8080/"
    },
    "id": "zCgradLo0p7I",
    "outputId": "c2f61cbb-15c9-443a-bd24-3a9d3e51a6dd"
   },
   "outputs": [
    {
     "data": {
      "text/plain": [
       "array([[ 0.19299829,  0.21479355],\n",
       "       [ 0.17664649,  0.32963857],\n",
       "       [-0.20785923, -0.33208618],\n",
       "       [-0.30096963, -0.24875595],\n",
       "       [ 0.16790685,  0.36430892],\n",
       "       [-0.01015463, -0.00785919],\n",
       "       [-0.3380523 , -0.3382403 ],\n",
       "       [ 0.08559134, -0.16079344],\n",
       "       [ 0.22924915,  0.36504197]], dtype=float32)"
      ]
     },
     "execution_count": 45,
     "metadata": {},
     "output_type": "execute_result"
    }
   ],
   "source": [
    "temp = embed(np.array(ids))[0]\n",
    "temp"
   ]
  },
  {
   "cell_type": "code",
   "execution_count": null,
   "metadata": {
    "colab": {
     "base_uri": "https://localhost:8080/",
     "height": 487
    },
    "id": "mvss8kOn029c",
    "outputId": "025b8085-4786-4579-ad8d-702bea28b9b4"
   },
   "outputs": [
    {
     "data": {
      "image/png": "[encoded data removed]",
      "text/plain": [
       "<Figure size 864x576 with 1 Axes>"
      ]
     },
     "metadata": {
      "needs_background": "light"
     },
     "output_type": "display_data"
    }
   ],
   "source": [
    "plt.figure(figsize=(12,8))\n",
    "plt.scatter(temp[:,0], temp[:,1])\n",
    "for i,j in zip(keywords, temp):\n",
    "    plt.annotate(i, (j[0]+0.01, j[1]-0.01) )"
   ]
  },
  {
   "cell_type": "code",
   "execution_count": null,
   "metadata": {
    "colab": {
     "base_uri": "https://localhost:8080/"
    },
    "id": "xn8C63Z11BEJ",
    "outputId": "a10f24d3-ccae-477f-f3b8-0bceb3073a1f"
   },
   "outputs": [
    {
     "name": "stdout",
     "output_type": "stream",
     "text": [
      "great [0.19299829 0.21479355]\n",
      "brilliant [0.17664649 0.32963857]\n",
      "crap [-0.20785923 -0.33208618]\n",
      "bad [-0.30096963 -0.24875595]\n",
      "fantastic [0.16790685 0.36430892]\n",
      "movie [-0.01015463 -0.00785919]\n",
      "seagal [-0.3380523 -0.3382403]\n",
      "suck [ 0.08559134 -0.16079344]\n",
      "wonderful [0.22924915 0.36504197]\n"
     ]
    }
   ],
   "source": [
    "for i,j in zip(keywords, temp):\n",
    "    print(i,j)"
   ]
  },
  {
   "cell_type": "markdown",
   "metadata": {
    "id": "8Yy3Ue1Z7m7K"
   },
   "source": [
    "## Test RNN Layers"
   ]
  },
  {
   "cell_type": "code",
   "execution_count": 62,
   "metadata": {
    "id": "B30NPuF77vSj"
   },
   "outputs": [],
   "source": [
    "rnn=keras.layers.SimpleRNN(1)"
   ]
  },
  {
   "cell_type": "code",
   "execution_count": 70,
   "metadata": {
    "colab": {
     "base_uri": "https://localhost:8080/"
    },
    "id": "lGyZvIc974Lf",
    "outputId": "a9f36c42-a756-4b16-d067-e477045d87ca"
   },
   "outputs": [
    {
     "data": {
      "text/plain": [
       "<tf.Tensor: shape=(1, 20, 1), dtype=float32, numpy=\n",
       "array([[[0.8520613 ],\n",
       "        [0.93719834],\n",
       "        [0.9737593 ],\n",
       "        [0.9723109 ],\n",
       "        [0.8926149 ],\n",
       "        [0.9470812 ],\n",
       "        [0.95458317],\n",
       "        [0.9018371 ],\n",
       "        [0.93205553],\n",
       "        [0.9293412 ],\n",
       "        [0.96617043],\n",
       "        [0.9649234 ],\n",
       "        [0.80748385],\n",
       "        [0.7942294 ],\n",
       "        [0.94939   ],\n",
       "        [0.89014477],\n",
       "        [0.91758734],\n",
       "        [0.9312304 ],\n",
       "        [0.9797918 ],\n",
       "        [0.8707068 ]]], dtype=float32)>"
      ]
     },
     "execution_count": 70,
     "metadata": {},
     "output_type": "execute_result"
    }
   ],
   "source": [
    "x = np.random.rand(1,20,4) # 1-dim: 배치사이즈, 2-dim: sequence, 3-dim: 입력 데이터의 변수\n",
    "rnn(x)"
   ]
  },
  {
   "cell_type": "code",
   "execution_count": 69,
   "metadata": {
    "colab": {
     "base_uri": "https://localhost:8080/"
    },
    "id": "D3Q-mwXT8exW",
    "outputId": "345555c7-01fb-4030-f6ff-fec55a063bd5"
   },
   "outputs": [
    {
     "data": {
      "text/plain": [
       "<tf.Tensor: shape=(1, 10, 1), dtype=float32, numpy=\n",
       "array([[[0.69958645],\n",
       "        [0.90386975],\n",
       "        [0.9245278 ],\n",
       "        [0.8051485 ],\n",
       "        [0.93906236],\n",
       "        [0.9663567 ],\n",
       "        [0.7395266 ],\n",
       "        [0.7937864 ],\n",
       "        [0.9638782 ],\n",
       "        [0.9222895 ]]], dtype=float32)>"
      ]
     },
     "execution_count": 69,
     "metadata": {},
     "output_type": "execute_result"
    }
   ],
   "source": [
    "rnn=keras.layers.SimpleRNN(1, return_sequences=True)\n",
    "rnn(x)"
   ]
  },
  {
   "cell_type": "markdown",
   "metadata": {
    "id": "yum0Ec8h9DK9"
   },
   "source": [
    "## Test LSTM layers"
   ]
  },
  {
   "cell_type": "code",
   "execution_count": 72,
   "metadata": {
    "colab": {
     "base_uri": "https://localhost:8080/"
    },
    "id": "o0Jy7qiU9JCz",
    "outputId": "0e2aef3d-6fbf-4fa7-b8e3-e7f80f62661a"
   },
   "outputs": [
    {
     "data": {
      "text/plain": [
       "<tf.Tensor: shape=(1, 20, 1), dtype=float32, numpy=\n",
       "array([[[-0.09457965],\n",
       "        [-0.11764086],\n",
       "        [-0.254084  ],\n",
       "        [-0.27832836],\n",
       "        [-0.23411126],\n",
       "        [-0.28126964],\n",
       "        [-0.3913843 ],\n",
       "        [-0.3263839 ],\n",
       "        [-0.2527953 ],\n",
       "        [-0.27409968],\n",
       "        [-0.25452116],\n",
       "        [-0.29477316],\n",
       "        [-0.26785296],\n",
       "        [-0.27820182],\n",
       "        [-0.3651337 ],\n",
       "        [-0.26040313],\n",
       "        [-0.33364144],\n",
       "        [-0.20828274],\n",
       "        [-0.27772337],\n",
       "        [-0.26775837]]], dtype=float32)>"
      ]
     },
     "execution_count": 72,
     "metadata": {},
     "output_type": "execute_result"
    }
   ],
   "source": [
    "lstm = keras.layers.LSTM(1, return_sequences=True)\n",
    "lstm(x)"
   ]
  },
  {
   "cell_type": "markdown",
   "metadata": {
    "id": "wX3htUpq9U-R"
   },
   "source": [
    "## 문장분류 모델 만들기"
   ]
  },
  {
   "cell_type": "code",
   "execution_count": 79,
   "metadata": {
    "colab": {
     "base_uri": "https://localhost:8080/"
    },
    "id": "BWEkSQkd9Vl2",
    "outputId": "5181804a-4b52-4fbb-faeb-4c0625b1e9ea"
   },
   "outputs": [
    {
     "name": "stdout",
     "output_type": "stream",
     "text": [
      "Model: \"sequential_3\"\n",
      "_________________________________________________________________\n",
      " Layer (type)                Output Shape              Param #   \n",
      "=================================================================\n",
      " embedding_3 (Embedding)     (None, 256, 32)           320000    \n",
      "                                                                 \n",
      " bidirectional (Bidirectiona  (None, 64)               16640     \n",
      " l)                                                              \n",
      "                                                                 \n",
      " dense_8 (Dense)             (None, 16)                1040      \n",
      "                                                                 \n",
      " dense_9 (Dense)             (None, 8)                 136       \n",
      "                                                                 \n",
      " dense_10 (Dense)            (None, 1)                 9         \n",
      "                                                                 \n",
      "=================================================================\n",
      "Total params: 337,825\n",
      "Trainable params: 337,825\n",
      "Non-trainable params: 0\n",
      "_________________________________________________________________\n"
     ]
    }
   ],
   "source": [
    "model = keras.Sequential([\n",
    "                          keras.layers.Embedding(input_dim=10000, output_dim=32, input_length=256),                          \n",
    "                          keras.layers.Bidirectional(keras.layers.LSTM(32)),\n",
    "                          keras.layers.Dense(16,activation='relu'),\n",
    "                          keras.layers.Dense(8,activation='relu'),\n",
    "                          keras.layers.Dense(1,activation='sigmoid')\n",
    "])\n",
    "\n",
    "model.compile(optimizer='adam',\n",
    "                       loss='binary_crossentropy',\n",
    "                      metrics=['accuracy'])\n",
    "model.summary()"
   ]
  },
  {
   "cell_type": "code",
   "execution_count": 80,
   "metadata": {
    "colab": {
     "base_uri": "https://localhost:8080/"
    },
    "id": "VDDxLsAw-Ty7",
    "outputId": "2bf8c14d-7b46-4aab-cdb5-bbdbfc2cf780"
   },
   "outputs": [
    {
     "name": "stdout",
     "output_type": "stream",
     "text": [
      "Epoch 1/20\n",
      "250/250 [==============================] - 41s 151ms/step - loss: 0.4488 - accuracy: 0.7768 - val_loss: 0.3259 - val_accuracy: 0.8668\n",
      "Epoch 2/20\n",
      "250/250 [==============================] - 37s 147ms/step - loss: 0.2329 - accuracy: 0.9138 - val_loss: 0.3103 - val_accuracy: 0.8738\n",
      "Epoch 3/20\n",
      "250/250 [==============================] - 37s 147ms/step - loss: 0.1734 - accuracy: 0.9379 - val_loss: 0.3322 - val_accuracy: 0.8654\n",
      "Epoch 4/20\n",
      "250/250 [==============================] - 39s 156ms/step - loss: 0.1391 - accuracy: 0.9533 - val_loss: 0.3839 - val_accuracy: 0.8658\n",
      "Epoch 5/20\n",
      "250/250 [==============================] - 37s 147ms/step - loss: 0.1146 - accuracy: 0.9620 - val_loss: 0.4429 - val_accuracy: 0.8511\n",
      "Epoch 6/20\n",
      "250/250 [==============================] - 37s 147ms/step - loss: 0.1095 - accuracy: 0.9633 - val_loss: 0.4409 - val_accuracy: 0.8558\n"
     ]
    }
   ],
   "source": [
    "early_stop = keras.callbacks.EarlyStopping(monitor='val_loss', patience=4)\n",
    "history = model.fit(train_x,\n",
    "                    train_y,\n",
    "                    epochs=20,\n",
    "                    batch_size=100,                    \n",
    "                    validation_data=(test_x,test_y),\n",
    "                    callbacks=early_stop)"
   ]
  },
  {
   "cell_type": "markdown",
   "metadata": {
    "id": "Y11_0mDx9TAw"
   },
   "source": [
    "train_x"
   ]
  }
 ],
 "metadata": {
  "accelerator": "GPU",
  "colab": {
   "name": "Deep Sequence Model.ipynb",
   "provenance": []
  },
  "kernelspec": {
   "display_name": "Python 3 (ipykernel)",
   "language": "python",
   "name": "python3"
  },
  "language_info": {
   "codemirror_mode": {
    "name": "ipython",
    "version": 3
   },
   "file_extension": ".py",
   "mimetype": "text/x-python",
   "name": "python",
   "nbconvert_exporter": "python",
   "pygments_lexer": "ipython3",
   "version": "3.8.10"
  }
 },
 "nbformat": 4,
 "nbformat_minor": 4
}
