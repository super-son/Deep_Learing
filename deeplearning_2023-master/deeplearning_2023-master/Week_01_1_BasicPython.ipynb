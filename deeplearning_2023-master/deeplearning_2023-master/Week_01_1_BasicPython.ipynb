{
 "cells": [
  {
   "cell_type": "markdown",
   "id": "cccfa2be-9161-42f1-93c4-a58ade863bca",
   "metadata": {
    "tags": []
   },
   "source": [
    "## List를 이용한 벡터의 표현"
   ]
  },
  {
   "cell_type": "markdown",
   "id": "de248726-53a4-4c88-babb-a5200a01d9ba",
   "metadata": {},
   "source": [
    "파이썬에서 숫자로 구성된 벡터를 다룰 수 있는 기본적인 자료형은 리스트이다."
   ]
  },
  {
   "cell_type": "code",
   "execution_count": 1,
   "id": "b1c9ba0a-9c95-460a-a036-776457d4ffbe",
   "metadata": {},
   "outputs": [],
   "source": [
    "# 패키지 불러오기\n",
    "import numpy as np"
   ]
  },
  {
   "cell_type": "code",
   "execution_count": 9,
   "id": "c522093b-7a97-403d-9428-dbc12c9e10a0",
   "metadata": {},
   "outputs": [
    {
     "name": "stdout",
     "output_type": "stream",
     "text": [
      "[1, 3, 5, 7, 9]\n",
      "<class 'list'>\n"
     ]
    }
   ],
   "source": [
    "# 리스트\n",
    "x = [1, 3, 5, 7, 9]\n",
    "print(x) # x의 값 출력\n",
    "print(type(x)) # x의 타입 출력"
   ]
  },
  {
   "cell_type": "code",
   "execution_count": 3,
   "id": "b434da81-d498-4838-948f-811e707fedc9",
   "metadata": {},
   "outputs": [
    {
     "ename": "TypeError",
     "evalue": "can only concatenate list (not \"int\") to list",
     "output_type": "error",
     "traceback": [
      "\u001b[0;31m---------------------------------------------------------------------------\u001b[0m",
      "\u001b[0;31mTypeError\u001b[0m                                 Traceback (most recent call last)",
      "\u001b[0;32m/tmp/ipykernel_35380/3325031694.py\u001b[0m in \u001b[0;36m<module>\u001b[0;34m\u001b[0m\n\u001b[1;32m      1\u001b[0m \u001b[0;31m# 리스트로는 벡터 연산할 수 없음\u001b[0m\u001b[0;34m\u001b[0m\u001b[0;34m\u001b[0m\u001b[0;34m\u001b[0m\u001b[0m\n\u001b[0;32m----> 2\u001b[0;31m \u001b[0mx\u001b[0m \u001b[0;34m+\u001b[0m \u001b[0;36m3\u001b[0m\u001b[0;34m\u001b[0m\u001b[0;34m\u001b[0m\u001b[0m\n\u001b[0m",
      "\u001b[0;31mTypeError\u001b[0m: can only concatenate list (not \"int\") to list"
     ]
    }
   ],
   "source": [
    "# 리스트로는 벡터 연산할 수 없음\n",
    "x + 3 # x의 모든 값에 일괄적으로 3을 더하고 싶었다."
   ]
  },
  {
   "cell_type": "code",
   "execution_count": 4,
   "id": "7a29855e-78d6-4de0-b8c4-09c966b87d10",
   "metadata": {},
   "outputs": [
    {
     "data": {
      "text/plain": [
       "[1, 3, 5, 7, 9, 1, 3, 5, 7, 9]"
      ]
     },
     "execution_count": 4,
     "metadata": {},
     "output_type": "execute_result"
    }
   ],
   "source": [
    "# 리스트로는 벡터연산 할 수 없음\n",
    "x + x # 두개의 벡터값을 더하고 싶었다."
   ]
  },
  {
   "cell_type": "markdown",
   "id": "d0ba88d5-89b4-40f4-8080-7f841c8ab450",
   "metadata": {},
   "source": [
    "## Numpy Array를 이용한 벡터의 표현"
   ]
  },
  {
   "cell_type": "markdown",
   "id": "ce4f5323-8aa5-4c1d-b5a9-d4604c5a2c57",
   "metadata": {},
   "source": [
    "NumPy는 파이썬에서 수치 계산과 데이터 분석을 위한 핵심 라이브러리 중 하나로, \"Numerical Python\"의 약어이다.  \n",
    "NumPy는 다차원 배열(또는 행렬)을 효율적으로 다루는 기능을 제공하며, 이러한 배열을 사용하여 다양한 수학적 연산을 수행할 수 있다."
   ]
  },
  {
   "cell_type": "code",
   "execution_count": 6,
   "id": "6a0169e6-cd69-4ce5-8841-bf0580b12beb",
   "metadata": {},
   "outputs": [
    {
     "data": {
      "text/plain": [
       "array([1, 3, 5, 7, 9])"
      ]
     },
     "execution_count": 6,
     "metadata": {},
     "output_type": "execute_result"
    }
   ],
   "source": [
    "# numpy array로 변환\n",
    "a = np.array(x)\n",
    "a"
   ]
  },
  {
   "cell_type": "code",
   "execution_count": 8,
   "id": "242c0130-bf09-4970-9390-19119b2f9625",
   "metadata": {},
   "outputs": [
    {
     "data": {
      "text/plain": [
       "numpy.ndarray"
      ]
     },
     "execution_count": 8,
     "metadata": {},
     "output_type": "execute_result"
    }
   ],
   "source": [
    "type(a)"
   ]
  },
  {
   "cell_type": "markdown",
   "id": "f2497bee-1d78-46a2-9711-a6e42e063fd0",
   "metadata": {},
   "source": [
    "## Numpy Array를 이용한 벡터연산"
   ]
  },
  {
   "cell_type": "markdown",
   "id": "f2a8371a-e77f-4917-aa78-ec5a6735e0f9",
   "metadata": {},
   "source": [
    "숫자가 numpy array로 표현되면 그때부터는 벡터의 연산이 가능해진다.  \n",
    "또한 속도도 매우 빠르다."
   ]
  },
  {
   "cell_type": "code",
   "execution_count": 11,
   "id": "dfb8f38d-7179-47eb-ad2b-3e67a1569af4",
   "metadata": {},
   "outputs": [
    {
     "name": "stdout",
     "output_type": "stream",
     "text": [
      "[ 4  6  8 10 12]\n",
      "[ 3  9 15 21 27]\n",
      "[0.1 0.3 0.5 0.7 0.9]\n",
      "[-2  0  2  4  6]\n"
     ]
    }
   ],
   "source": [
    "print(a+3)\n",
    "print(a*3)\n",
    "print(a/10)\n",
    "print(a-3)"
   ]
  },
  {
   "cell_type": "code",
   "execution_count": 13,
   "id": "a79b80a3-8b90-43bd-a136-84bebd5f0e03",
   "metadata": {},
   "outputs": [
    {
     "name": "stdout",
     "output_type": "stream",
     "text": [
      "[ 3  7 11 15 19]\n",
      "[-1 -1 -1 -1 -1]\n",
      "[0.5        0.75       0.83333333 0.875      0.9       ]\n",
      "[ 2 12 30 56 90]\n"
     ]
    }
   ],
   "source": [
    "b = np.array([2,4,6,8,10])\n",
    "print(a+b)\n",
    "print(a-b)\n",
    "print(a/b)\n",
    "print(a*b)"
   ]
  },
  {
   "cell_type": "markdown",
   "id": "cbd1d3c6-9e83-4722-b4f7-fbfcd5e76edd",
   "metadata": {},
   "source": [
    "## 리스트를 이용한 행렬(2차원 데이터의) 표현"
   ]
  },
  {
   "cell_type": "markdown",
   "id": "36fc2537-397d-4f48-85d4-d4c81984a75b",
   "metadata": {},
   "source": [
    "우리가 생각해 볼 수 있는 2차원 데이터의 예시는 다음과 같다.\n",
    "* 표 데이터: 엑셀 스프레드시트나 데이터베이스의 테이블과 같이 행과 열로 구성된 데이터는 2차원 데이터의 예시이다.  \n",
    "  각 행은 레코드나 관측치를 나타내며, 각 열은 해당 관측치의 속성이나 변수를 나타낸다.  \n",
    "  즉 1차원 벡터가 여러개 모였다고 생각하면 쉬울 것이다.\n",
    "* 이미지 데이터: 흑백 이미지는 픽셀 값을 가로와 세로 위치로 나타내는 2차원 데이터이다.  \n",
    "  각 픽셀은 밝기 값을 나타내며, 전체 이미지는 2차원 배열로 표현된다.  \n",
    "  이미지 데이터포인트 한개를 표현하는데 2차원 데이터가 필요한 상황이다."
   ]
  },
  {
   "cell_type": "code",
   "execution_count": 19,
   "id": "f66cd7cf-b940-47f8-b3c9-5310e2dcca55",
   "metadata": {},
   "outputs": [
    {
     "name": "stdout",
     "output_type": "stream",
     "text": [
      "[[1, 2, 3], [4, 5, 6]]\n"
     ]
    }
   ],
   "source": [
    "# 리스트로 2차원 데이터를 표현하는 방법은 다음과 같이 2차원 리스트를 만드는 것이다.\n",
    "x = [[1,2,3],[4,5,6]]\n",
    "print(x)"
   ]
  },
  {
   "cell_type": "code",
   "execution_count": 20,
   "id": "deb0fcc9-c2f1-4fa8-aeac-b68aad44ae21",
   "metadata": {},
   "outputs": [
    {
     "name": "stdout",
     "output_type": "stream",
     "text": [
      "[1, 2, 3]\n",
      "[4, 5, 6]\n"
     ]
    }
   ],
   "source": [
    "print(x[0])\n",
    "print(x[1])"
   ]
  },
  {
   "cell_type": "code",
   "execution_count": 17,
   "id": "8af81ac2-e3ac-4eae-ba8a-aba0e3922815",
   "metadata": {},
   "outputs": [
    {
     "name": "stdout",
     "output_type": "stream",
     "text": [
      "1\n"
     ]
    }
   ],
   "source": [
    "print(x[0][0])"
   ]
  },
  {
   "cell_type": "markdown",
   "id": "323feb88-e43b-44c1-a2e7-248e7972a0b8",
   "metadata": {},
   "source": [
    "## Numpy를 이용한 행렬의 표현"
   ]
  },
  {
   "cell_type": "markdown",
   "id": "4c9247a0-a8d3-4d71-b6eb-001fee18818b",
   "metadata": {},
   "source": [
    "마찬가지로 2차원 리스트로 표현된 벡터는 사칙연산이 어려우므로 numpy 배열로 바꾸어 표현하는 것이 좋다."
   ]
  },
  {
   "cell_type": "code",
   "execution_count": 21,
   "id": "2828b244-ecd3-409a-b2f8-a3756640c1e8",
   "metadata": {},
   "outputs": [
    {
     "data": {
      "text/plain": [
       "array([[1, 2, 3],\n",
       "       [4, 5, 6]])"
      ]
     },
     "execution_count": 21,
     "metadata": {},
     "output_type": "execute_result"
    }
   ],
   "source": [
    "a = np.array(m)\n",
    "a"
   ]
  },
  {
   "cell_type": "code",
   "execution_count": 22,
   "id": "c8a91576-4937-4932-b55e-163705c88c3a",
   "metadata": {},
   "outputs": [
    {
     "data": {
      "text/plain": [
       "array([[1, 2, 3],\n",
       "       [4, 5, 6]])"
      ]
     },
     "execution_count": 22,
     "metadata": {},
     "output_type": "execute_result"
    }
   ],
   "source": [
    "a"
   ]
  },
  {
   "cell_type": "markdown",
   "id": "dc8c91be-1f61-48c6-9038-d4fce036cd08",
   "metadata": {},
   "source": [
    "## Numpy를 이용한 행렬의 벡터연산"
   ]
  },
  {
   "cell_type": "code",
   "execution_count": 24,
   "id": "0785ec15-a957-49a3-8378-fed197313867",
   "metadata": {},
   "outputs": [
    {
     "name": "stdout",
     "output_type": "stream",
     "text": [
      "[[4 5 6]\n",
      " [7 8 9]]\n",
      "[[0.33333333 0.66666667 1.        ]\n",
      " [1.33333333 1.66666667 2.        ]]\n"
     ]
    }
   ],
   "source": [
    "print(a+3)\n",
    "print(a/3)"
   ]
  },
  {
   "cell_type": "code",
   "execution_count": 25,
   "id": "d579b1f2-3216-436a-a20e-37af52cbf9ef",
   "metadata": {},
   "outputs": [
    {
     "name": "stdout",
     "output_type": "stream",
     "text": [
      "[[ 2  4  6]\n",
      " [ 8 10 12]]\n"
     ]
    }
   ],
   "source": [
    "print(a+a)"
   ]
  },
  {
   "cell_type": "code",
   "execution_count": 26,
   "id": "e2f81915-ba83-49f7-b5d2-b9c89615e572",
   "metadata": {},
   "outputs": [
    {
     "name": "stdout",
     "output_type": "stream",
     "text": [
      "[[1. 1. 1.]\n",
      " [1. 1. 1.]]\n"
     ]
    }
   ],
   "source": [
    "print(a/a)"
   ]
  },
  {
   "cell_type": "code",
   "execution_count": 30,
   "id": "71fce094-d999-4386-8183-9ced2fb1ddb7",
   "metadata": {},
   "outputs": [
    {
     "data": {
      "text/plain": [
       "array([[10, 22],\n",
       "       [25, 55]])"
      ]
     },
     "execution_count": 30,
     "metadata": {},
     "output_type": "execute_result"
    }
   ],
   "source": [
    "# 추가적으로 numpy는 matrix의 곱 연산등 다양한 선형대수의 기능을 제공한다.\n",
    "b = np.array([[2,4],[1,3],[2,4]])\n",
    "np.matmul(a,b) # a와 b의 행렬연산"
   ]
  },
  {
   "cell_type": "markdown",
   "id": "371b2f9d-c5da-43b6-be9b-68169a249f36",
   "metadata": {},
   "source": [
    "## 3차원 데이터는 무엇일까?\n",
    "같은 행과 열로 구성된 (행렬)이 여러개 있다면 이를 3차원 데이터라고 볼 수 있다.\n",
    "\n",
    "* RGB 이미지 데이터: 컬러 이미지는 가로, 세로 픽셀 위치와 각 픽셀에서의 빨강(R), 초록(G), 파랑(B) 색상 성분을 나타내는 3차원 데이터입니다.  \n",
    "  이미지의 각 픽셀은 3개의 값을 가지며, 전체 이미지는 3차원 배열로 표현됩니다.  \n",
    "  즉 데이터포인트 1개가 3차원으로 표현되는 상황이다."
   ]
  },
  {
   "cell_type": "code",
   "execution_count": 31,
   "id": "9e3b6498-6f8a-4c1b-900a-f7c6b04ede59",
   "metadata": {},
   "outputs": [
    {
     "data": {
      "text/plain": [
       "array([[[1, 2, 3],\n",
       "        [4, 5, 6]],\n",
       "\n",
       "       [[2, 4, 6],\n",
       "        [1, 3, 5]]])"
      ]
     },
     "execution_count": 31,
     "metadata": {},
     "output_type": "execute_result"
    }
   ],
   "source": [
    "a = np.array([[[1,2,3],[4,5,6]],[[2,4,6],[1,3,5]]])\n",
    "a"
   ]
  },
  {
   "cell_type": "markdown",
   "id": "628f89bf-4763-437c-98db-a77a701f9529",
   "metadata": {},
   "source": [
    "## 배열의 차원과 크기확인"
   ]
  },
  {
   "cell_type": "code",
   "execution_count": 32,
   "id": "0b83857f-ba74-49e6-b0e5-ebdd91b6d894",
   "metadata": {},
   "outputs": [
    {
     "name": "stdout",
     "output_type": "stream",
     "text": [
      "2\n"
     ]
    }
   ],
   "source": [
    "# ndim 차원확인\n",
    "arr = np.array([[1, 2, 3], [4, 5, 6]])\n",
    "print(arr.ndim)  # 출력: 2 (2차원 배열)"
   ]
  },
  {
   "cell_type": "code",
   "execution_count": 33,
   "id": "121c42d3-eb4e-4549-a8d5-0a3782dcb78e",
   "metadata": {},
   "outputs": [
    {
     "name": "stdout",
     "output_type": "stream",
     "text": [
      "(2, 3)\n"
     ]
    }
   ],
   "source": [
    "# shape 차원별 크기 확인\n",
    "arr = np.array([[1, 2, 3], [4, 5, 6]])\n",
    "print(arr.shape)  # 출력: (2, 3) (2행 3열의 배열)"
   ]
  },
  {
   "cell_type": "markdown",
   "id": "2476bdea-5b3b-429f-9d9a-dbff392d6b0e",
   "metadata": {},
   "source": [
    "## 배열의 모양 바꾸기"
   ]
  },
  {
   "cell_type": "code",
   "execution_count": 34,
   "id": "8e6ff3e8-ce28-4c9c-8f21-aef5902fc43e",
   "metadata": {},
   "outputs": [
    {
     "data": {
      "text/plain": [
       "array([[1, 2, 3],\n",
       "       [4, 5, 6]])"
      ]
     },
     "execution_count": 34,
     "metadata": {},
     "output_type": "execute_result"
    }
   ],
   "source": [
    "arr"
   ]
  },
  {
   "cell_type": "code",
   "execution_count": 35,
   "id": "57edbbfb-c209-4fda-9de4-0c6ada0a6217",
   "metadata": {},
   "outputs": [
    {
     "data": {
      "text/plain": [
       "(2, 3)"
      ]
     },
     "execution_count": 35,
     "metadata": {},
     "output_type": "execute_result"
    }
   ],
   "source": [
    "arr.shape"
   ]
  },
  {
   "cell_type": "code",
   "execution_count": 38,
   "id": "aa09581e-4ee1-402e-a5ba-2d79cd1db41c",
   "metadata": {},
   "outputs": [
    {
     "data": {
      "text/plain": [
       "array([[1, 2],\n",
       "       [3, 4],\n",
       "       [5, 6]])"
      ]
     },
     "execution_count": 38,
     "metadata": {},
     "output_type": "execute_result"
    }
   ],
   "source": [
    "arr.reshape((3,2))"
   ]
  },
  {
   "cell_type": "code",
   "execution_count": 39,
   "id": "e991cae0-6963-4190-9414-7c0bc5f7f1e7",
   "metadata": {},
   "outputs": [
    {
     "data": {
      "text/plain": [
       "array([[1, 2, 3, 4, 5, 6]])"
      ]
     },
     "execution_count": 39,
     "metadata": {},
     "output_type": "execute_result"
    }
   ],
   "source": [
    "arr.reshape((1,6))"
   ]
  },
  {
   "cell_type": "code",
   "execution_count": 40,
   "id": "902b1704-c77c-4a2f-9f16-3c32909fc902",
   "metadata": {},
   "outputs": [
    {
     "data": {
      "text/plain": [
       "array([[1],\n",
       "       [2],\n",
       "       [3],\n",
       "       [4],\n",
       "       [5],\n",
       "       [6]])"
      ]
     },
     "execution_count": 40,
     "metadata": {},
     "output_type": "execute_result"
    }
   ],
   "source": [
    "arr.reshape((6,1))"
   ]
  },
  {
   "cell_type": "code",
   "execution_count": 42,
   "id": "00bacbf6-ba04-4f33-8acd-8db581ce7673",
   "metadata": {},
   "outputs": [
    {
     "data": {
      "text/plain": [
       "array([[1, 2],\n",
       "       [3, 4],\n",
       "       [5, 6]])"
      ]
     },
     "execution_count": 42,
     "metadata": {},
     "output_type": "execute_result"
    }
   ],
   "source": [
    "arr.reshape((3,-1))"
   ]
  }
 ],
 "metadata": {
  "kernelspec": {
   "display_name": "Python 3 (ipykernel)",
   "language": "python",
   "name": "python3"
  },
  "language_info": {
   "codemirror_mode": {
    "name": "ipython",
    "version": 3
   },
   "file_extension": ".py",
   "mimetype": "text/x-python",
   "name": "python",
   "nbconvert_exporter": "python",
   "pygments_lexer": "ipython3",
   "version": "3.8.10"
  }
 },
 "nbformat": 4,
 "nbformat_minor": 5
}
